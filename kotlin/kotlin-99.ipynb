{
 "cells": [
  {
   "cell_type": "markdown",
   "metadata": {},
   "source": [
    "# [Ninety-Nine ~~Scala~~ Kotlin Problems](http://aperiodic.net/phil/scala/s-99/)\n",
    "https://github.com/dkandalov/kotlin-99"
   ]
  },
  {
   "cell_type": "markdown",
   "metadata": {},
   "source": [
    "### P01 (*) Find the last element of a list.\n",
    "\n",
    "Example:\n",
    "```kotlin\n",
    "> last(listOf(1, 1, 2, 3, 5, 8))\n",
    "8\n",
    "```"
   ]
  },
  {
   "cell_type": "code",
   "execution_count": 1,
   "metadata": {},
   "outputs": [
    {
     "data": {
      "text/plain": [
       "8"
      ]
     },
     "execution_count": 1,
     "metadata": {},
     "output_type": "execute_result"
    }
   ],
   "source": [
    "fun <T> last(list: List<T>) = list.last()\n",
    "last(listOf(1, 1, 2, 3, 5, 8))"
   ]
  },
  {
   "cell_type": "markdown",
   "metadata": {},
   "source": [
    "### P02 (*) Find the last but one element of a list.\n",
    "\n",
    "Example:\n",
    "```kotlin\n",
    "> penultimate(listOf(1, 1, 2, 3, 5, 8))\n",
    "5\n",
    "```"
   ]
  },
  {
   "cell_type": "code",
   "execution_count": 2,
   "metadata": {},
   "outputs": [
    {
     "data": {
      "text/plain": [
       "5"
      ]
     },
     "execution_count": 2,
     "metadata": {},
     "output_type": "execute_result"
    }
   ],
   "source": [
    "fun <T> penultimate(list: List<T>) = list[list.lastIndex - 1]\n",
    "penultimate(listOf(1, 1, 2, 3, 5, 8))"
   ]
  },
  {
   "cell_type": "markdown",
   "metadata": {},
   "source": [
    "### P03 (*) Find the Nth element of a list.\n",
    "\n",
    "By convention, the first element in the list is element 0.\n",
    "\n",
    "Example:\n",
    "```kotlin\n",
    "> nth(2, listOf(1, 1, 2, 3, 5, 8))\n",
    "2\n",
    "```"
   ]
  },
  {
   "cell_type": "code",
   "execution_count": 3,
   "metadata": {},
   "outputs": [
    {
     "data": {
      "text/plain": [
       "2"
      ]
     },
     "execution_count": 3,
     "metadata": {},
     "output_type": "execute_result"
    }
   ],
   "source": [
    "fun <T> nth(index: Int, list: List<T>) = list[index]\n",
    "nth(2, listOf(1, 1, 2, 3, 5, 8))"
   ]
  },
  {
   "cell_type": "markdown",
   "metadata": {
    "collapsed": true
   },
   "source": [
    "### P04 (*) Find the number of elements of a list.\n",
    "\n",
    "Example:\n",
    "```kotlin\n",
    "> length(listOf(1, 1, 2, 3, 5, 8))\n",
    "6\n",
    "```"
   ]
  },
  {
   "cell_type": "code",
   "execution_count": 4,
   "metadata": {},
   "outputs": [
    {
     "data": {
      "text/plain": [
       "6"
      ]
     },
     "execution_count": 4,
     "metadata": {},
     "output_type": "execute_result"
    }
   ],
   "source": [
    "fun <T> length(list: List<T>) = list.size\n",
    "length(listOf(1, 1, 2, 3, 5, 8))"
   ]
  },
  {
   "cell_type": "markdown",
   "metadata": {},
   "source": [
    "### P05 (*) Reverse a list.\n",
    "\n",
    "Example:\n",
    "```kotlin\n",
    "> reverse(listOf(1, 1, 2, 3, 5, 8))\n",
    "[8, 5, 3, 2, 1, 1]\n",
    "```"
   ]
  },
  {
   "cell_type": "code",
   "execution_count": 5,
   "metadata": {},
   "outputs": [
    {
     "data": {
      "text/plain": [
       "[8, 5, 3, 2, 1, 1]"
      ]
     },
     "execution_count": 5,
     "metadata": {},
     "output_type": "execute_result"
    }
   ],
   "source": [
    "fun <T> reverse(list: List<T>) = list.reversed()\n",
    "reverse(listOf(1, 1, 2, 3, 5, 8))"
   ]
  },
  {
   "cell_type": "markdown",
   "metadata": {},
   "source": [
    "### P06 (*) Find out whether a list is a palindrome.\n",
    "\n",
    "Example:\n",
    "```kotlin\n",
    "> isPalindrome(listOf(1, 2, 3, 2, 1))\n",
    "true\n",
    "```"
   ]
  },
  {
   "cell_type": "code",
   "execution_count": 6,
   "metadata": {},
   "outputs": [
    {
     "data": {
      "text/plain": [
       "true"
      ]
     },
     "execution_count": 6,
     "metadata": {},
     "output_type": "execute_result"
    }
   ],
   "source": [
    "fun <T> isPalindrome(list: List<T>) = list == list.reversed()\n",
    "isPalindrome(listOf(1, 2, 3, 2, 1))"
   ]
  },
  {
   "cell_type": "markdown",
   "metadata": {},
   "source": [
    "### P07 (*) Flatten a nested list structure.\n",
    "\n",
    "Example:\n",
    "```kotlin\n",
    "> flatten(listOf(listOf(1, 1), 2, listOf(3, listOf(5, 8))))\n",
    "[1, 1, 2, 3, 5, 8]\n",
    "```"
   ]
  },
  {
   "cell_type": "code",
   "execution_count": 7,
   "metadata": {},
   "outputs": [
    {
     "data": {
      "text/plain": [
       "[1, 1, 2, 3, 5, 8]"
      ]
     },
     "execution_count": 7,
     "metadata": {},
     "output_type": "execute_result"
    }
   ],
   "source": [
    "fun flatten(list: List<Any>): List<Any> = list.flatMap{\n",
    "    if(it is List<*>) flatten(it as List<Any>)\n",
    "    else listOf(it)\n",
    "}\n",
    "flatten(listOf(listOf(1, 1), 2, listOf(3, listOf(5, 8))))"
   ]
  },
  {
   "cell_type": "markdown",
   "metadata": {},
   "source": [
    "### P08 (*) Eliminate consecutive duplicates of list elements.\n",
    "\n",
    "If a list contains repeated elements, they should be replaced with a single copy of the element. The order of the elements should not be changed.\n",
    "\n",
    "Example:\n",
    "```kotlin\n",
    "> compress(\"aaaabccaadeeee\".toList())\n",
    "[a, b, c, a, d, e]\n",
    "```"
   ]
  },
  {
   "cell_type": "code",
   "execution_count": 8,
   "metadata": {},
   "outputs": [
    {
     "data": {
      "text/plain": [
       "[a, b, c, a, d, e]"
      ]
     },
     "execution_count": 8,
     "metadata": {},
     "output_type": "execute_result"
    }
   ],
   "source": [
    "fun <T> compress(list: List<T>) = list.fold(emptyList<T>()){\n",
    "    l, e -> if(l.isEmpty() || l.last() != e) l + e else l\n",
    "}\n",
    "compress(\"aaaabccaadeeee\".toList())"
   ]
  },
  {
   "cell_type": "markdown",
   "metadata": {},
   "source": [
    "### P09 (*) Pack consecutive duplicates of list elements into sublists.\n",
    "\n",
    "If a list contains repeated elements, they should be placed in separate sublists.\n",
    "\n",
    "Example:\n",
    "```kotlin\n",
    "> pack(\"aaaabccaadeeee\".toList())\n",
    "[[a, a, a, a], [b], [c, c], [a, a], [d], [e, e, e, e]]\n",
    "```"
   ]
  },
  {
   "cell_type": "code",
   "execution_count": 9,
   "metadata": {},
   "outputs": [
    {
     "data": {
      "text/plain": [
       "[[a, a, a, a], [b], [c, c], [a, a], [d], [e, e, e, e]]"
      ]
     },
     "execution_count": 9,
     "metadata": {},
     "output_type": "execute_result"
    }
   ],
   "source": [
    "fun <T> pack(list: List<T>): List<List<T>> = list.fold(emptyList<List<T>>()){l, e ->\n",
    "    if(l.isEmpty() || l.last().first() != e) l + listOf(listOf<T>(e))\n",
    "    else l.dropLast(1) + listOf(l.last() + e)\n",
    "}\n",
    "pack(\"aaaabccaadeeee\".toList())"
   ]
  },
  {
   "cell_type": "markdown",
   "metadata": {},
   "source": [
    "### P10 (*) Run-length encoding of a list.\n",
    "\n",
    "Use the result of problem P09 to implement the so-called run-length encoding data compression method. Consecutive duplicates of elements are encoded as tuples (N, E) where N is the number of duplicates of the element E.\n",
    "\n",
    "Example:\n",
    "```kotlin\n",
    "> encode(\"aaaabccaadeeee\".toList())\n",
    "[(4, a), (1, b), (2, c), (2, a), (1, d), (4, e)]\n",
    "```"
   ]
  },
  {
   "cell_type": "code",
   "execution_count": 10,
   "metadata": {},
   "outputs": [
    {
     "data": {
      "text/plain": [
       "[(4, a), (1, b), (2, c), (2, a), (1, d), (4, e)]"
      ]
     },
     "execution_count": 10,
     "metadata": {},
     "output_type": "execute_result"
    }
   ],
   "source": [
    "fun <T> encode(list: List<T>) = pack(list).map{it.size to it[0]}\n",
    "encode(\"aaaabccaadeeee\".toList())"
   ]
  },
  {
   "cell_type": "markdown",
   "metadata": {},
   "source": [
    "### P11 (*) Modified run-length encoding.\n",
    "\n",
    "Modify the result of problem P10 in such a way that if an element has no duplicates it is simply copied into the result list. Only elements with duplicates are transferred as (N, E) terms.\n",
    "\n",
    "Example:\n",
    "```kotlin\n",
    "> encodeModified(\"aaaabccaadeeee\".toList())\n",
    "[(4, a), b, (2, c), (2, a), d, (4, e)]\n",
    "```"
   ]
  },
  {
   "cell_type": "code",
   "execution_count": 11,
   "metadata": {},
   "outputs": [
    {
     "data": {
      "text/plain": [
       "[(4, a), b, (2, c), (2, a), d, (4, e)]"
      ]
     },
     "execution_count": 11,
     "metadata": {},
     "output_type": "execute_result"
    }
   ],
   "source": [
    "fun <T> encodeModified(list: List<T>): List<Any> = encode(list).map{(i, c) -> if(i > 1) i to c else c as Any}\n",
    "encodeModified(\"aaaabccaadeeee\".toList())"
   ]
  },
  {
   "cell_type": "markdown",
   "metadata": {
    "collapsed": true
   },
   "source": [
    "### P12 (*) Decode a run-length encoded list.\n",
    "\n",
    "Given a run-length code list generated as specified in problem P10, construct its uncompressed version.\n",
    "\n",
    "Example:\n",
    "```kotlin\n",
    "> decode(listOf(4 to 'a', 1 to 'b', 2 to 'c', 2 to 'a', 1 to 'd', 4 to 'e'))\n",
    "[a, a, a, a, b, c, c, a, a, d, e, e, e, e]\n",
    "```"
   ]
  },
  {
   "cell_type": "code",
   "execution_count": 12,
   "metadata": {},
   "outputs": [
    {
     "data": {
      "text/plain": [
       "[a, a, a, a, b, c, c, a, a, d, e, e, e, e]"
      ]
     },
     "execution_count": 12,
     "metadata": {},
     "output_type": "execute_result"
    }
   ],
   "source": [
    "import java.util.Collections\n",
    "fun <T> decode(list: List<Pair<Int, T>>) = list.flatMap{(i, c) -> Collections.nCopies(i, c)}\n",
    "decode(listOf(4 to 'a', 1 to 'b', 2 to 'c', 2 to 'a', 1 to 'd', 4 to 'e'))"
   ]
  },
  {
   "cell_type": "markdown",
   "metadata": {
    "collapsed": true
   },
   "source": [
    "### P13 (*) Run-length encoding of a list (direct solution).\n",
    "\n",
    "Implement the so-called run-length encoding data compression method directly. I.e. don't use other methods you've written (like P09's pack); do all the work directly.\n",
    "\n",
    "Example:\n",
    "```kotlin\n",
    "> encodeDirect(\"aaaabccaadeeee\".toList())\n",
    "[(4, a), (1, b), (2, c), (2, a), (1, d), (4, e)]\n",
    "```"
   ]
  },
  {
   "cell_type": "code",
   "execution_count": 13,
   "metadata": {},
   "outputs": [
    {
     "data": {
      "text/plain": [
       "[(4, a), (1, b), (2, c), (2, a), (1, d), (4, e)]"
      ]
     },
     "execution_count": 13,
     "metadata": {},
     "output_type": "execute_result"
    }
   ],
   "source": [
    "fun <T> encodeDirect(list: List<T>) = list.fold(emptyList<Pair<Int, T>>()){l, e ->\n",
    "    if(l.isEmpty() || l[l.lastIndex].second != e) l + (1 to e)\n",
    "    else l.slice(0..l.lastIndex-1) + (l[l.lastIndex].first + 1 to e)\n",
    "}\n",
    "encodeDirect(\"aaaabccaadeeee\".toList())"
   ]
  },
  {
   "cell_type": "markdown",
   "metadata": {
    "collapsed": true
   },
   "source": [
    "### P14 (*) Duplicate the elements of a list.\n",
    "\n",
    "Example:\n",
    "```ktolin\n",
    "> duplicate(\"abccd\".toList())\n",
    "[a, a, b, b, c, c, c, c, d, d]\n",
    "```"
   ]
  },
  {
   "cell_type": "code",
   "execution_count": 14,
   "metadata": {},
   "outputs": [
    {
     "data": {
      "text/plain": [
       "[a, a, b, b, c, c, c, c, d, d]"
      ]
     },
     "execution_count": 14,
     "metadata": {},
     "output_type": "execute_result"
    }
   ],
   "source": [
    "fun <T> duplicate(list: List<T>) = list.flatMap{listOf(it, it)}\n",
    "duplicate(\"abccd\".toList())"
   ]
  },
  {
   "cell_type": "markdown",
   "metadata": {
    "collapsed": true
   },
   "source": [
    "### P15 (*) Duplicate the elements of a list a given number of times.\n",
    "\n",
    "Example:\n",
    "```kotlin\n",
    "> duplicateN(3, \"abccd\".toList())\n",
    "[a, a, a, b, b, b, c, c, c, c, c, c, d, d, d]\n",
    "```"
   ]
  },
  {
   "cell_type": "code",
   "execution_count": 15,
   "metadata": {},
   "outputs": [
    {
     "data": {
      "text/plain": [
       "[a, a, a, b, b, b, c, c, c, c, c, c, d, d, d]"
      ]
     },
     "execution_count": 15,
     "metadata": {},
     "output_type": "execute_result"
    }
   ],
   "source": [
    "import java.util.Collections\n",
    "fun <T> duplicateN(time: Int, list: List<T>) = list.flatMap{Collections.nCopies(time, it)}\n",
    "duplicateN(3, \"abccd\".toList())"
   ]
  },
  {
   "cell_type": "markdown",
   "metadata": {
    "collapsed": true
   },
   "source": [
    "### P16 (*) Drop every Nth element from a list.\n",
    "\n",
    "Example:\n",
    "```kotlin\n",
    "> drop(3, \"abcdefghijk\".toList())\n",
    "[a, b, d, e, g, h, j, k]\n",
    "```"
   ]
  },
  {
   "cell_type": "code",
   "execution_count": 16,
   "metadata": {},
   "outputs": [
    {
     "data": {
      "text/plain": [
       "[a, b, d, e, g, h, j, k]"
      ]
     },
     "execution_count": 16,
     "metadata": {},
     "output_type": "execute_result"
    }
   ],
   "source": [
    "fun <T> drop(n: Int, list: List<T>) = list.filterIndexed{i, _ -> i % 3 != 2}\n",
    "drop(3, \"abcdefghijk\".toList())"
   ]
  },
  {
   "cell_type": "markdown",
   "metadata": {
    "collapsed": true
   },
   "source": [
    "### P17 (*) Split a list into two parts.\n",
    "\n",
    "The length of the first part is given. Use a Tuple for your result.\n",
    "\n",
    "Example:\n",
    "```kotlin\n",
    "> split(3, \"abcdefghijk\".toList())\n",
    "([a, b, c], [d, e, f, g, h, i, j, k])\n",
    "```"
   ]
  },
  {
   "cell_type": "code",
   "execution_count": 17,
   "metadata": {},
   "outputs": [
    {
     "data": {
      "text/plain": [
       "([a, b, c], [d, e, f, g, h, i, j, k])"
      ]
     },
     "execution_count": 17,
     "metadata": {},
     "output_type": "execute_result"
    }
   ],
   "source": [
    "fun <T> split(n: Int, list: List<T>) = list.take(n) to list.drop(n)\n",
    "split(3, \"abcdefghijk\".toList())"
   ]
  },
  {
   "cell_type": "markdown",
   "metadata": {
    "collapsed": true
   },
   "source": [
    "### P18 (*) Extract a slice from a list.\n",
    "\n",
    "Given two indices, I and K, the slice is the list containing the elements from and including the Ith element up to but not including the Kth element of the original list. Start counting the elements with 0.\n",
    "\n",
    "Example:\n",
    "```kotlin\n",
    "> slice(3, 7, \"abcdefghijk\".toList())\n",
    "[d, e, f, g]\n",
    "```"
   ]
  },
  {
   "cell_type": "code",
   "execution_count": 18,
   "metadata": {},
   "outputs": [
    {
     "data": {
      "text/plain": [
       "[d, e, f, g]"
      ]
     },
     "execution_count": 18,
     "metadata": {},
     "output_type": "execute_result"
    }
   ],
   "source": [
    "fun <T> slice(from: Int, to: Int, list: List<T>) = list.slice(from..to-1)\n",
    "slice(3, 7, \"abcdefghijk\".toList())"
   ]
  },
  {
   "cell_type": "markdown",
   "metadata": {
    "collapsed": true
   },
   "source": [
    "### P19 (*) Rotate a list N places to the left.\n",
    "\n",
    "Examples:\n",
    "```kotlin\n",
    "> rotate(3, \"abcdefghijk\".toList())\n",
    "[d, e, f, g, h, i, j, k, a, b, c]\n",
    "\n",
    "> rotate(-2, \"abcdefghijk\".toList())\n",
    "[j, k, a, b, c, d, e, f, g, h, i]\n",
    "```"
   ]
  },
  {
   "cell_type": "code",
   "execution_count": 19,
   "metadata": {},
   "outputs": [
    {
     "name": "stdout",
     "output_type": "stream",
     "text": [
      "[d, e, f, g, h, i, j, k, a, b, c]\n"
     ]
    },
    {
     "data": {
      "text/plain": [
       "[j, k, a, b, c, d, e, f, g, h, i]"
      ]
     },
     "execution_count": 19,
     "metadata": {},
     "output_type": "execute_result"
    }
   ],
   "source": [
    "fun <T> rotate(n: Int, list: List<T>) =\n",
    "    list.drop((n + list.size) % list.size) + list.take((n + list.size) % list.size)\n",
    "println(rotate(3, \"abcdefghijk\".toList()))\n",
    "rotate(-2, \"abcdefghijk\".toList())"
   ]
  },
  {
   "cell_type": "markdown",
   "metadata": {
    "collapsed": true
   },
   "source": [
    "### P20 (*) Remove the Kth element from a list.\n",
    "\n",
    "Return the list and the removed element in a Tuple. Elements are numbered from 0.\n",
    "\n",
    "Example:\n",
    "```kotlin\n",
    "> removeAt(1, \"abcd\".toList())\n",
    "([a, c, d], b)\n",
    "```"
   ]
  },
  {
   "cell_type": "code",
   "execution_count": 20,
   "metadata": {},
   "outputs": [
    {
     "data": {
      "text/plain": [
       "([a, c, d], b)"
      ]
     },
     "execution_count": 20,
     "metadata": {},
     "output_type": "execute_result"
    }
   ],
   "source": [
    "fun <T> removeAt(n: Int, list: List<T>) = list.filterIndexed{i, _ -> i != n} to list[n]\n",
    "removeAt(1, \"abcd\".toList())"
   ]
  },
  {
   "cell_type": "markdown",
   "metadata": {
    "collapsed": true
   },
   "source": [
    "### P21 (*) Insert an element at a given position into a list.\n",
    "\n",
    "Example:\n",
    "```kotlin\n",
    "> insertAt('X', 1, \"abcd\".toList())\n",
    "[a, X, b, c, d]\n",
    "```"
   ]
  },
  {
   "cell_type": "code",
   "execution_count": 1,
   "metadata": {},
   "outputs": [
    {
     "data": {
      "text/plain": [
       "[a, X, b, c, d]"
      ]
     },
     "execution_count": 1,
     "metadata": {},
     "output_type": "execute_result"
    }
   ],
   "source": [
    "fun <T> insertAt(v: T, n: Int, list: List<T>) = list.take(n) + listOf(v) + list.drop(n)\n",
    "insertAt('X', 1, \"abcd\".toList())"
   ]
  },
  {
   "cell_type": "markdown",
   "metadata": {
    "collapsed": true
   },
   "source": [
    "### P22 (*) Create a list containing all integers within a given range.\n",
    "\n",
    "Example:\n",
    "```kotlin\n",
    "> range(4, 9)\n",
    "[4, 5, 6, 7, 8, 9]\n",
    "```"
   ]
  },
  {
   "cell_type": "code",
   "execution_count": 2,
   "metadata": {},
   "outputs": [
    {
     "data": {
      "text/plain": [
       "[4, 5, 6, 7, 8, 9]"
      ]
     },
     "execution_count": 2,
     "metadata": {},
     "output_type": "execute_result"
    }
   ],
   "source": [
    "fun range(from: Int, to: Int) = (from..to).toList()\n",
    "range(4, 9)"
   ]
  },
  {
   "cell_type": "markdown",
   "metadata": {
    "collapsed": true
   },
   "source": [
    "### P23 (*) Extract a given number of randomly selected elements from a list.\n",
    "\n",
    "Make sure there is a way to produce deterministic results.\n",
    "\n",
    "Example:\n",
    "```kotlin\n",
    "> randomSelect(3, \"abcdefgh\".toList())\n",
    "[c, h, f]\n",
    "```"
   ]
  },
  {
   "cell_type": "code",
   "execution_count": 3,
   "metadata": {},
   "outputs": [
    {
     "data": {
      "text/plain": [
       "[c, h, f]"
      ]
     },
     "execution_count": 3,
     "metadata": {},
     "output_type": "execute_result"
    }
   ],
   "source": [
    "import java.util.Random\n",
    "fun <T> randomSelect(n: Int, list: List<T>, rand: Random = Random(123)): List<T> = when(n){\n",
    "    0 -> emptyList<T>()\n",
    "    else -> {\n",
    "        val value = list[rand.nextInt(list.size)]\n",
    "        randomSelect(n-1, list.filterNot{it==value}, rand) + value\n",
    "    }\n",
    "}\n",
    "randomSelect(3, \"abcdefgh\".toList())"
   ]
  },
  {
   "cell_type": "markdown",
   "metadata": {
    "collapsed": true
   },
   "source": [
    "### P24 (*) Lotto: Draw N different random numbers from the set 1..M.\n",
    "\n",
    "Make sure there is a way to produce deterministic results.\n",
    "\n",
    "Example:\n",
    "```kotlin\n",
    "> lotto(3, 49)\n",
    "[32, 28, 8]\n",
    "```"
   ]
  },
  {
   "cell_type": "code",
   "execution_count": 4,
   "metadata": {},
   "outputs": [
    {
     "data": {
      "text/plain": [
       "[32, 28, 8]"
      ]
     },
     "execution_count": 4,
     "metadata": {},
     "output_type": "execute_result"
    }
   ],
   "source": [
    "fun lotto(n: Int, max: Int) = randomSelect(n, (1..max).toList())\n",
    "lotto(3, 49)"
   ]
  },
  {
   "cell_type": "markdown",
   "metadata": {},
   "source": [
    "### P25 (*) Generate a random permutation of the elements of a list.\n",
    "\n",
    "Make sure there is a way to produce deterministic results. Hint: Use the solution of problem P23.\n",
    "\n",
    "Example:\n",
    "```kotlin\n",
    "> randomPermute(\"abcdef\".toList())\n",
    "[d, b, e, f, a, c]\n",
    "```"
   ]
  },
  {
   "cell_type": "code",
   "execution_count": 5,
   "metadata": {},
   "outputs": [
    {
     "data": {
      "text/plain": [
       "[d, b, e, f, a, c]"
      ]
     },
     "execution_count": 5,
     "metadata": {},
     "output_type": "execute_result"
    }
   ],
   "source": [
    "fun <T> randomPermute(list: List<T>) = randomSelect(list.size, list)\n",
    "randomPermute(\"abcdef\".toList())"
   ]
  },
  {
   "cell_type": "markdown",
   "metadata": {
    "collapsed": true
   },
   "source": [
    "### P26 (**) Generate the combinations of K distinct objects chosen from the N elements of a list.\n",
    "\n",
    "In how many ways can a committee of 3 be chosen from a group of 12 people? There are C(12,3) = 220 possibilities, where C(N,K) denotes binomial coefficient. For pure mathematicians, this result may be great. But we want to really generate all the possibilities.\n",
    "\n",
    "Example:\n",
    "```kotlin\n",
    "> combinations(3, \"abcde\".toList())\n",
    "[[c, b, a], [d, b, a], [e, b, a], [d, c, a], [e, c, a], [e, d, a], [d, c, b], [e, c, b], [e, d, b], [e, d, c]]\n",
    "```"
   ]
  },
  {
   "cell_type": "code",
   "execution_count": 6,
   "metadata": {},
   "outputs": [
    {
     "data": {
      "text/plain": [
       "[[c, b, a], [d, b, a], [e, b, a], [d, c, a], [e, c, a], [e, d, a], [d, c, b], [e, c, b], [e, d, b], [e, d, c]]"
      ]
     },
     "execution_count": 6,
     "metadata": {},
     "output_type": "execute_result"
    }
   ],
   "source": [
    "fun <T> flatMapTails(list: List<T>, f: (List<T>) -> (List<List<T>>)): List<List<T>> =\n",
    "        if (list.isEmpty()) emptyList()\n",
    "        else f(list) + flatMapTails(list.drop(1), f)\n",
    "fun <T> combinations(n: Int, list: List<T>): List<List<T>> =\n",
    "    if(n == 0) listOf(emptyList())\n",
    "    else flatMapTails(list) {\n",
    "        subList -> combinations(n-1, subList.drop(1)).map{it + subList.first()}\n",
    "    }\n",
    "combinations(3, \"abcde\".toList())"
   ]
  },
  {
   "cell_type": "markdown",
   "metadata": {
    "collapsed": true
   },
   "source": [
    "### P27 (**) Group the elements of a set into disjoint subsets.\n",
    "\n",
    "* a) In how many ways can a group of 9 people work in 3 disjoint subgroups of 2, 3 and 4 persons? Write a function that generates all the possibilities.\n",
    "\n",
    "Example:\n",
    "```kotlin\n",
    "> group3(listOf(\"Aldo\", \"Beat\", \"Carla\", \"David\", \"Evi\", \"Flip\", \"Gary\", \"Hugo\", \"Ida\"))\n",
    "[[[\"Ida\", \"Hugo\", \"Gary\", \"Flip\"], [\"Evi\", \"David\", \"Carla\"], [\"Beat\", \"Aldo\"]], ...\n",
    "```\n",
    "\n",
    "* b) Generalize the above predicate in a way that we can specify a list of group sizes and the predicate will return a list of groups. \n",
    "\n",
    "Example:\n",
    "```kotlin\n",
    "> group(listOf(2, 2, 5), listOf(\"Aldo\", \"Beat\", \"Carla\", \"David\", \"Evi\", \"Flip\", \"Gary\", \"Hugo\", \"Ida\"))\n",
    "[[[\"Ida\", \"Hugo\", \"Gary\", \"Flip\", \"Evi\"], [\"David\", \"Carla\"], [\"Beat\", \"Aldo\"]], ...\n",
    "```\n",
    "Note that we do not want permutations of the group members, i.e. [[Aldo, Beat], ...]] is the same solution as [[Beat, Aldo], ...]. However, [[Aldo, Beat], [Carla, David], ...] and [[Carla, David], [Aldo, Beat], ...] are considered to be different solutions.\n",
    "\n",
    "You may find more about this combinatorial problem in a good book on discrete mathematics under the term multinomial coefficients."
   ]
  },
  {
   "cell_type": "code",
   "execution_count": 7,
   "metadata": {
    "scrolled": false
   },
   "outputs": [
    {
     "name": "stdout",
     "output_type": "stream",
     "text": [
      "[[[Ida, Hugo, Gary, Flip], [Evi, David, Carla], [Beat, Aldo]]]\n",
      "[[[Ida, Hugo, Gary, Flip, Evi], [David, Carla], [Beat, Aldo]]]\n"
     ]
    }
   ],
   "source": [
    "fun <T> group(sizes: List<Int>, list: List<T>): List<List<List<T>>> =\n",
    "    if (sizes.isEmpty()) listOf(emptyList())\n",
    "    else combinations(sizes.first(), list).flatMap{combination ->\n",
    "        group(sizes.drop(1), list.filter{it !in combination}).map{it+listOf(combination)}\n",
    "    }\n",
    "fun <T> group3(list: List<T>) = group(listOf(2, 3, 4), list)\n",
    "println(group3(listOf(\"Aldo\", \"Beat\", \"Carla\", \"David\", \"Evi\", \"Flip\", \"Gary\", \"Hugo\", \"Ida\")).take(1))\n",
    "println(group(listOf(2, 2, 5), listOf(\"Aldo\", \"Beat\", \"Carla\", \"David\", \"Evi\", \"Flip\", \"Gary\", \"Hugo\", \"Ida\"))\n",
    ".take(1))"
   ]
  },
  {
   "cell_type": "markdown",
   "metadata": {},
   "source": [
    "### P28 (*) Sorting a list of lists according to length of sublists.\n",
    "\n",
    "* a) We suppose that a list contains elements that are lists themselves. The objective is to sort elements of the list according to their length. E.g. short lists first, longer lists later, or vice versa. \n",
    "\n",
    "Example:\n",
    "```kotlin\n",
    "> lengthSort(listOf(\"abc\".toList(), \"de\".toList(), \"fgh\".toList(), \"de\".toList(), \"ijkl\".toList(), \"mn\".toList(), \"o\".toList()))\n",
    "[[o], [d, e], [d, e], [m, n], [a, b, c], [f, g, h], [i, j, k, l]]\n",
    "```\n",
    "\n",
    "* b) Again, we suppose that a list contains elements that are lists themselves. But this time the objective is to sort elements according to their length frequency; i.e. in the default, sorting is done ascendingly, lists with rare lengths are placed, others with a more frequent length come later. \n",
    "\n",
    "Example:\n",
    "```kotlin\n",
    "> lengthFreqSort(listOf(\"abc\".toList(), \"de\".toList(), \"fgh\".toList(), \"de\".toList(), \"ijkl\".toList(), \"mn\".toList(), \"o\".toList()))\n",
    "[[i, j, k, l], [o], [a, b, c], [f, g, h], [d, e], [d, e], [m, n]]\n",
    "```\n",
    "\n",
    "Note that in the above example, the first two lists in the result have length 4 and 1 and both lengths appear just once. The third and fourth lists have length 3 and there are two list of this length. Finally, the last three lists have length 2. This is the most frequent length."
   ]
  },
  {
   "cell_type": "code",
   "execution_count": 8,
   "metadata": {},
   "outputs": [
    {
     "data": {
      "text/plain": [
       "[[o], [d, e], [d, e], [m, n], [a, b, c], [f, g, h], [i, j, k, l]]"
      ]
     },
     "execution_count": 8,
     "metadata": {},
     "output_type": "execute_result"
    }
   ],
   "source": [
    "fun <T> lengthSort(l: List<List<T>>) = l.sortedBy{it.size}\n",
    "lengthSort(listOf(\n",
    "    \"abc\".toList(), \"de\".toList(), \"fgh\".toList(),\n",
    "    \"de\".toList(), \"ijkl\".toList(), \"mn\".toList(), \"o\".toList()))"
   ]
  },
  {
   "cell_type": "code",
   "execution_count": 9,
   "metadata": {},
   "outputs": [
    {
     "data": {
      "text/plain": [
       "[[i, j, k, l], [o], [a, b, c], [f, g, h], [d, e], [d, e], [m, n]]"
      ]
     },
     "execution_count": 9,
     "metadata": {},
     "output_type": "execute_result"
    }
   ],
   "source": [
    "fun <T> lengthFreqSort(l: List<List<T>>) = l.groupBy{it.size}.toList().sortedBy{it.second.size}.flatMap{it.second}\n",
    "lengthFreqSort(listOf(\n",
    "    \"abc\".toList(), \"de\".toList(), \"fgh\".toList(),\n",
    "    \"de\".toList(), \"ijkl\".toList(), \"mn\".toList(), \"o\".toList()))"
   ]
  },
  {
   "cell_type": "markdown",
   "metadata": {},
   "source": [
    "### P31 (*) Determine whether a given integer number is prime.\n",
    "```kotlin\n",
    "> 7.isPrime()\n",
    "true\n",
    "```"
   ]
  },
  {
   "cell_type": "code",
   "execution_count": 1,
   "metadata": {},
   "outputs": [
    {
     "data": {
      "text/plain": [
       "(true, true)"
      ]
     },
     "execution_count": 1,
     "metadata": {},
     "output_type": "execute_result"
    }
   ],
   "source": [
    "fun Int.isPrime(): Boolean {\n",
    "    if (this == 2) return true\n",
    "    else if(this < 2 || 2.toBigInteger().pow(this-1) % this.toBigInteger() != 1.toBigInteger()) return false\n",
    "    for(i in 3..(Math.sqrt(this.toDouble()) + 1).toInt() step 2) if(this % i == 0) return false\n",
    "    return true\n",
    "}\n",
    "7.isPrime() to 1879.isPrime()"
   ]
  },
  {
   "cell_type": "markdown",
   "metadata": {},
   "source": [
    "### P32 (*) Determine the greatest common divisor of two positive integer numbers.\n",
    "\n",
    "Use Euclid's algorithm.\n",
    "```kotlin\n",
    "> gcd(36, 63)\n",
    "9\n",
    "```"
   ]
  },
  {
   "cell_type": "code",
   "execution_count": 2,
   "metadata": {},
   "outputs": [
    {
     "data": {
      "text/plain": [
       "9"
      ]
     },
     "execution_count": 2,
     "metadata": {},
     "output_type": "execute_result"
    }
   ],
   "source": [
    "fun gcd(a:Int, b:Int): Int = if(b > 0) gcd(b, a % b) else a\n",
    "gcd(36, 63)"
   ]
  },
  {
   "cell_type": "markdown",
   "metadata": {},
   "source": [
    "### Two numbers are coprime if their greatest common divisor equals 1.\n",
    "```kotlin\n",
    "> 35.isCoprimeTo(64)\n",
    "true\n",
    "```"
   ]
  },
  {
   "cell_type": "code",
   "execution_count": 3,
   "metadata": {},
   "outputs": [
    {
     "data": {
      "text/plain": [
       "true"
      ]
     },
     "execution_count": 3,
     "metadata": {},
     "output_type": "execute_result"
    }
   ],
   "source": [
    "fun Int.isCoprimeTo(other: Int): Boolean = gcd(this, other) == 1\n",
    "35.isCoprimeTo(64)"
   ]
  },
  {
   "cell_type": "markdown",
   "metadata": {},
   "source": [
    "### P34 (*) Calculate Euler's totient function phi(m).\n",
    "\n",
    "Euler's so-called totient function phi(m) is defined as the number of positive integers r (1 <= r <= m) that are coprime to m.\n",
    "```kotlin\n",
    "> 10.totient()\n",
    "4\n",
    "```"
   ]
  },
  {
   "cell_type": "code",
   "execution_count": 4,
   "metadata": {},
   "outputs": [
    {
     "data": {
      "text/plain": [
       "4"
      ]
     },
     "execution_count": 4,
     "metadata": {},
     "output_type": "execute_result"
    }
   ],
   "source": [
    "fun Int.totient() = (1..this-1).sumBy{\n",
    "    if(this.isCoprimeTo(it)) 1 else 0\n",
    "}\n",
    "10.totient()"
   ]
  },
  {
   "cell_type": "markdown",
   "metadata": {},
   "source": [
    "### P35 (*) Determine prime factors of a given positive integer.\n",
    "\n",
    "Construct a list containing prime factors in ascending order.\n",
    "```kotlin\n",
    "> 315.primeFactors()\n",
    "[3, 3, 5, 7]\n",
    "```"
   ]
  },
  {
   "cell_type": "code",
   "execution_count": 5,
   "metadata": {},
   "outputs": [
    {
     "data": {
      "text/plain": [
       "[3, 3, 5, 7]"
      ]
     },
     "execution_count": 5,
     "metadata": {},
     "output_type": "execute_result"
    }
   ],
   "source": [
    "fun Int.primeFactors(p: Int = 2): List<Int> =\n",
    "    if (this <= 1) emptyList()\n",
    "    else if(p.isPrime() && this % p == 0) listOf(p) + (this / p).primeFactors(p)\n",
    "    else this.primeFactors(p+1)\n",
    "315.primeFactors()"
   ]
  },
  {
   "cell_type": "markdown",
   "metadata": {},
   "source": [
    "### P36 (*) Determine the prime factors of a given positive integer (2).\n",
    "\n",
    "Construct a list containing prime factors and their multiplicity.\n",
    "```kotlin\n",
    "> 315.primeFactorMultiplicity()\n",
    "[(3, 2), (5, 1), (7, 1)]\n",
    "```"
   ]
  },
  {
   "cell_type": "code",
   "execution_count": 6,
   "metadata": {},
   "outputs": [
    {
     "data": {
      "text/plain": [
       "[(3, 2), (5, 1), (7, 1)]"
      ]
     },
     "execution_count": 6,
     "metadata": {},
     "output_type": "execute_result"
    }
   ],
   "source": [
    "fun Int.primeFactorMultiplicity(): List<Pair<Int, Int>> = this.primeFactors().fold(emptyList<Pair<Int, Int>>()){\n",
    "    l, e -> if(l.isEmpty() || l[l.lastIndex].first != e) l + (e to 1)\n",
    "            else l.slice(0..l.lastIndex-1) + (e to l[l.lastIndex].second + 1)\n",
    "}\n",
    "315.primeFactorMultiplicity()"
   ]
  },
  {
   "cell_type": "markdown",
   "metadata": {
    "collapsed": true
   },
   "source": [
    "### P37 (*) Calculate Euler's totient function phi(m) (improved).\n",
    "\n",
    "See problem P34 for the definition of Euler's totient function. If the list of the prime factors of a number m is known in the form of problem P36, then the function phi(m) can be efficiently calculated as follows: Let `[[p1, m1], [p2, m2], [p3, m3], ...]` be the list of prime factors (and their multiplicities) of a given number m. Then phi(m) can be calculated with the following formula: `phi(m) = (p1-1)*p1^(m1-1) * (p2-1)*p2^(m2-1) * (p3-1)*p3^(m3-1) * ...`"
   ]
  },
  {
   "cell_type": "code",
   "execution_count": 7,
   "metadata": {},
   "outputs": [
    {
     "data": {
      "text/plain": [
       "4"
      ]
     },
     "execution_count": 7,
     "metadata": {},
     "output_type": "execute_result"
    }
   ],
   "source": [
    "fun Int.totientImproved() = this.primeFactorMultiplicity().fold(1){\n",
    "    acc, (p, m) -> acc * (p-1) * Math.pow(p.toDouble(), (m-1).toDouble()).toInt()}\n",
    "10.totientImproved()"
   ]
  },
  {
   "cell_type": "markdown",
   "metadata": {},
   "source": [
    "### P38 (*) Compare the two methods of calculating Euler's totient function."
   ]
  },
  {
   "cell_type": "code",
   "execution_count": 8,
   "metadata": {},
   "outputs": [
    {
     "data": {
      "text/plain": [
       "true"
      ]
     },
     "execution_count": 8,
     "metadata": {},
     "output_type": "execute_result"
    }
   ],
   "source": [
    "10090.totient() == 10090.totientImproved()"
   ]
  },
  {
   "cell_type": "markdown",
   "metadata": {},
   "source": [
    "### P39 (*) A list of prime numbers.\n",
    "\n",
    "Given a range of integers by its lower and upper limit, construct a list of all prime numbers in that range.\n",
    "```kotlin\n",
    "> listPrimesInRange(7..31)\n",
    "[7, 11, 13, 17, 19, 23, 29, 31]\n",
    "```"
   ]
  },
  {
   "cell_type": "code",
   "execution_count": 9,
   "metadata": {},
   "outputs": [
    {
     "data": {
      "text/plain": [
       "[7, 11, 13, 17, 19, 23, 29, 31]"
      ]
     },
     "execution_count": 9,
     "metadata": {},
     "output_type": "execute_result"
    }
   ],
   "source": [
    "fun listPrimesInRange(list: IntProgression): List<Int> = list.filter{it->it.isPrime()}\n",
    "listPrimesInRange(7..31)"
   ]
  },
  {
   "cell_type": "markdown",
   "metadata": {},
   "source": [
    "### P40 (*) Goldbach's conjecture.\n",
    "\n",
    "Goldbach's conjecture says that every positive even number greater than 2 is the sum of two prime numbers. E.g. 28 = 5 + 23. It is one of the most famous facts in number theory that has not been proved to be correct in the general case. It has been numerically confirmed up to very large numbers (much larger than Kotlin's Int can represent). Write a function to find the two prime numbers that sum up to a given even integer.\n",
    "```kotlin\n",
    "> 28.goldbach()\n",
    "(5, 23)\n",
    "```"
   ]
  },
  {
   "cell_type": "code",
   "execution_count": 10,
   "metadata": {},
   "outputs": [
    {
     "data": {
      "text/plain": [
       "(5, 23)"
      ]
     },
     "execution_count": 10,
     "metadata": {},
     "output_type": "execute_result"
    }
   ],
   "source": [
    "fun Int.goldbach(): Pair<Int, Int> = \n",
    "if (this == 4) 2 to 2\n",
    "else listPrimesInRange((3..(this-1) step 2)).fold(emptyList<Pair<Int, Int>>()){\n",
    "    l, e ->\n",
    "    if((this-e).isPrime()) l + (e to this - e)\n",
    "    else l\n",
    "}.first()\n",
    "28.goldbach()"
   ]
  },
  {
   "cell_type": "markdown",
   "metadata": {},
   "source": [
    "### P41 (*) A list of Goldbach compositions.\n",
    "\n",
    "Given a range of integers by its lower and upper limit, print a list of all even numbers and their Goldbach composition.\n",
    "```kotlin\n",
    "> printGoldbachList(9..20)\n",
    "10 = 3 + 7\n",
    "12 = 5 + 7\n",
    "14 = 3 + 11\n",
    "16 = 3 + 13\n",
    "18 = 5 + 13\n",
    "20 = 3 + 17\n",
    "```\n",
    "In most cases, if an even number is written as the sum of two prime numbers, one of them is very small. Very rarely, the primes are both bigger than, say, 50. Example (minimum value of 50 for the primes):\n",
    "```kotlin\n",
    "> printGoldbachListLimited(2..3000, 50)\n",
    "992 = 73 + 919\n",
    "1382 = 61 + 1321\n",
    "1856 = 67 + 1789\n",
    "...\n",
    "```\n"
   ]
  },
  {
   "cell_type": "code",
   "execution_count": 11,
   "metadata": {
    "scrolled": false
   },
   "outputs": [
    {
     "name": "stdout",
     "output_type": "stream",
     "text": [
      "10 = 3 + 7\n",
      "12 = 5 + 7\n",
      "14 = 3 + 11\n",
      "16 = 3 + 13\n",
      "18 = 5 + 13\n",
      "20 = 3 + 17\n",
      "992 = 73 + 919\n",
      "1382 = 61 + 1321\n",
      "1856 = 67 + 1789\n",
      "1928 = 61 + 1867\n",
      "2078 = 61 + 2017\n",
      "2438 = 61 + 2377\n",
      "2512 = 53 + 2459\n",
      "2530 = 53 + 2477\n",
      "2618 = 61 + 2557\n",
      "2642 = 103 + 2539\n"
     ]
    }
   ],
   "source": [
    "fun printGoldbachListLimited(list: IntProgression, min: Int=2): Unit = list.filter{\n",
    "    it > 3 && it%2 == 0\n",
    "}.map{\n",
    "    it to it.goldbach()\n",
    "}.filter{\n",
    "    it.second.first >= min\n",
    "}.forEach{\n",
    "    println(\"${it.first} = ${it.second.first} + ${it.second.second}\")\n",
    "}\n",
    "fun printGoldbachList(list: IntProgression): Unit = printGoldbachListLimited(list)\n",
    "printGoldbachList(9..20)\n",
    "printGoldbachListLimited(2..3000, 50)"
   ]
  },
  {
   "cell_type": "markdown",
   "metadata": {},
   "source": [
    "### P46 (*) Truth tables for logical expressions.\n",
    "\n",
    "Define functions and_, or_, nand_, nor_, xor_, impl_, and equ_ (for logical equivalence) which return true or false according to the result of their respective operations.\n",
    "```kotlin\n",
    "> true.and_(true)\n",
    "true\n",
    "> true.xor_(true)\n",
    "false\n",
    "```\n",
    "Write a function called printTruthTable which prints the truth table of a given logical expression.\n",
    "```kotlin\n",
    "> printTruthTable{ a, b -> a.and_(a.or_(b.not_())) }\n",
    "a\tb\tresult\n",
    "true\ttrue\ttrue\n",
    "true\tfalse\ttrue\n",
    "false\ttrue\tfalse\n",
    "false\tfalse\tfalse\n",
    "```"
   ]
  },
  {
   "cell_type": "markdown",
   "metadata": {},
   "source": [
    "### P47 (*) Truth tables for logical expressions (2).\n",
    "\n",
    "Continue P46 by defining and/2, or/2, etc as being operators. This allows to write the logical expression in the more natural way, as in the example: A and (A or not B). Define operator precedence as usual; i.e. as in Java."
   ]
  },
  {
   "cell_type": "markdown",
   "metadata": {},
   "source": [
    "### P48 (**) Truth tables for logical expressions (3).\n",
    "Generalize P47 in such a way that the logical expression may contain any number of logical variables. Define table/2 in a way that table(List,Expr) prints the truth table for the expression Expr, which contains the logical variables enumerated in List."
   ]
  },
  {
   "cell_type": "markdown",
   "metadata": {},
   "source": [
    "### P49 (*) Gray code.\n",
    "\n",
    "An n-bit Gray code is a sequence of n-bit strings constructed according to certain rules. Find out the construction rules and write a function to generate Gray codes. For example:\n",
    "```kotlin\n",
    "> grayCodes(bits = 1)\n",
    "[0, 1]\n",
    "> grayCodes(bits = 2)\n",
    "[00, 01, 11, 10]\n",
    "> grayCodes(bits = 3)\n",
    "[000, 001, 011, 010, 110, 111, 101, 100]\n",
    "```"
   ]
  },
  {
   "cell_type": "markdown",
   "metadata": {},
   "source": [
    "### P50 (**) Huffman code.\n",
    "\n",
    "If you are not familiar with Huffman coding, consult internet (or a good book).\n",
    "\n",
    "* a) Given characters with their frequencies, e.g. {a=25, b=21, c=18, d=14, e=9, f=7, g=6}. Our objective is to construct a Map, where key is character and value is the Huffman code for it.\n",
    "\n",
    "```kotlin\n",
    "> createEncoding(linkedMapOf(Pair('a', 25), Pair('b', 21), Pair('c', 18), Pair('d', 14), Pair('e', 9), Pair('f', 7), Pair('g', 6)))\n",
    "{a=10, b=00, c=111, d=110, e=010, f=0111, g=0110}\n",
    "```\n",
    "\n",
    "* b) Write encode and decode functions for conversion between String and encoded String with zeroes and ones. For example:\n",
    "\n",
    "```kotlin\n",
    "\"this is a sentence\".encode(encoding)\n",
    "\"00110000101011100101011101001110101111011001111011000111\"\n",
    "\n",
    "\"00110000101011100101011101001110101111011001111011000111\".decode(encoding)\n",
    "\"this is a sentence\"\n",
    "```"
   ]
  }
 ],
 "metadata": {
  "kernelspec": {
   "display_name": "Kotlin",
   "language": "kotlin",
   "name": "kotlin"
  },
  "language_info": {
   "file_extension": "kt",
   "name": "kotlin"
  }
 },
 "nbformat": 4,
 "nbformat_minor": 2
}
