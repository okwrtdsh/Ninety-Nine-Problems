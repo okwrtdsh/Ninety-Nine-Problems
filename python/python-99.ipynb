{
 "cells": [
  {
   "cell_type": "markdown",
   "metadata": {},
   "source": [
    "### P01 (*) Find the last element of a list.\n",
    "\n",
    "Example:\n",
    "```kotlin\n",
    "> last(listOf(1, 1, 2, 3, 5, 8))\n",
    "8\n",
    "```"
   ]
  },
  {
   "cell_type": "code",
   "execution_count": 1,
   "metadata": {},
   "outputs": [
    {
     "data": {
      "text/plain": [
       "8"
      ]
     },
     "execution_count": 1,
     "metadata": {},
     "output_type": "execute_result"
    }
   ],
   "source": [
    "def last(l):\n",
    "    return l[-1]\n",
    "last([1, 1, 2, 3, 5, 8])"
   ]
  },
  {
   "cell_type": "markdown",
   "metadata": {},
   "source": [
    "### P02 (*) Find the last but one element of a list.\n",
    "\n",
    "Example:\n",
    "```kotlin\n",
    "> penultimate(listOf(1, 1, 2, 3, 5, 8))\n",
    "5\n",
    "```"
   ]
  },
  {
   "cell_type": "code",
   "execution_count": 2,
   "metadata": {},
   "outputs": [
    {
     "data": {
      "text/plain": [
       "5"
      ]
     },
     "execution_count": 2,
     "metadata": {},
     "output_type": "execute_result"
    }
   ],
   "source": [
    "def penultimate(l):\n",
    "    return l[-2]\n",
    "penultimate([1, 1, 2, 3, 5, 8])"
   ]
  },
  {
   "cell_type": "markdown",
   "metadata": {},
   "source": [
    "### P03 (*) Find the Nth element of a list.\n",
    "\n",
    "By convention, the first element in the list is element 0.\n",
    "\n",
    "Example:\n",
    "```kotlin\n",
    "> nth(2, listOf(1, 1, 2, 3, 5, 8))\n",
    "2\n",
    "```"
   ]
  },
  {
   "cell_type": "code",
   "execution_count": 3,
   "metadata": {},
   "outputs": [
    {
     "data": {
      "text/plain": [
       "2"
      ]
     },
     "execution_count": 3,
     "metadata": {},
     "output_type": "execute_result"
    }
   ],
   "source": [
    "def nth(index, l):\n",
    "    return l[index]\n",
    "nth(2, [1, 1, 2, 3, 5, 8])"
   ]
  },
  {
   "cell_type": "markdown",
   "metadata": {},
   "source": [
    "### P04 (*) Find the number of elements of a list.\n",
    "\n",
    "Example:\n",
    "```kotlin\n",
    "> length(listOf(1, 1, 2, 3, 5, 8))\n",
    "6\n",
    "```"
   ]
  },
  {
   "cell_type": "code",
   "execution_count": 4,
   "metadata": {},
   "outputs": [
    {
     "data": {
      "text/plain": [
       "6"
      ]
     },
     "execution_count": 4,
     "metadata": {},
     "output_type": "execute_result"
    }
   ],
   "source": [
    "def length(l):\n",
    "    return len(l)\n",
    "length([1, 1, 2, 3, 5, 8])"
   ]
  },
  {
   "cell_type": "markdown",
   "metadata": {},
   "source": [
    "### P05 (*) Reverse a list.\n",
    "\n",
    "Example:\n",
    "```kotlin\n",
    "> reverse(listOf(1, 1, 2, 3, 5, 8))\n",
    "[8, 5, 3, 2, 1, 1]\n",
    "```"
   ]
  },
  {
   "cell_type": "code",
   "execution_count": 5,
   "metadata": {},
   "outputs": [
    {
     "data": {
      "text/plain": [
       "[8, 5, 3, 2, 1, 1]"
      ]
     },
     "execution_count": 5,
     "metadata": {},
     "output_type": "execute_result"
    }
   ],
   "source": [
    "def reverse(l):\n",
    "    return list(reversed(l))\n",
    "reverse([1, 1, 2, 3, 5, 8])"
   ]
  },
  {
   "cell_type": "markdown",
   "metadata": {},
   "source": [
    "### P06 (*) Find out whether a list is a palindrome.\n",
    "\n",
    "Example:\n",
    "```kotlin\n",
    "> isPalindrome(listOf(1, 2, 3, 2, 1))\n",
    "true\n",
    "```"
   ]
  },
  {
   "cell_type": "code",
   "execution_count": 6,
   "metadata": {},
   "outputs": [
    {
     "data": {
      "text/plain": [
       "True"
      ]
     },
     "execution_count": 6,
     "metadata": {},
     "output_type": "execute_result"
    }
   ],
   "source": [
    "def is_palindrome(l):\n",
    "    return l == list(reversed(l))\n",
    "is_palindrome([1, 2, 3, 2, 1])"
   ]
  },
  {
   "cell_type": "markdown",
   "metadata": {},
   "source": [
    "### P07 (*) Flatten a nested list structure.\n",
    "\n",
    "Example:\n",
    "```kotlin\n",
    "> flatten(listOf(listOf(1, 1), 2, listOf(3, listOf(5, 8))))\n",
    "[1, 1, 2, 3, 5, 8]\n",
    "```"
   ]
  },
  {
   "cell_type": "code",
   "execution_count": 7,
   "metadata": {},
   "outputs": [
    {
     "data": {
      "text/plain": [
       "[1, 1, 2, 3, 5, 8]"
      ]
     },
     "execution_count": 7,
     "metadata": {},
     "output_type": "execute_result"
    }
   ],
   "source": [
    "def flatten(l):\n",
    "    if isinstance(l, list):\n",
    "        result = []\n",
    "        for i in l:\n",
    "            result.extend(flatten(i))\n",
    "        return result\n",
    "    else:\n",
    "        return [l]\n",
    "flatten([[1, 1], 2, [3, [5, 8]]])"
   ]
  },
  {
   "cell_type": "code",
   "execution_count": 8,
   "metadata": {},
   "outputs": [
    {
     "name": "stdout",
     "output_type": "stream",
     "text": [
      "4.85 µs ± 621 ns per loop (mean ± std. dev. of 7 runs, 100000 loops each)\n"
     ]
    }
   ],
   "source": [
    "%%timeit\n",
    "flatten([[1, 1], 2, [3, [5, 8]]])"
   ]
  },
  {
   "cell_type": "code",
   "execution_count": 9,
   "metadata": {},
   "outputs": [
    {
     "data": {
      "text/plain": [
       "[1, 1, 2, 3, 5, 8]"
      ]
     },
     "execution_count": 9,
     "metadata": {},
     "output_type": "execute_result"
    }
   ],
   "source": [
    "def flatten2(l):\n",
    "    if isinstance(l, list):\n",
    "        result = []\n",
    "        for i in l:\n",
    "            result += flatten2(i)\n",
    "        return result\n",
    "    else:\n",
    "        return [l]\n",
    "flatten2([[1, 1], 2, [3, [5, 8]]])"
   ]
  },
  {
   "cell_type": "code",
   "execution_count": 10,
   "metadata": {},
   "outputs": [
    {
     "name": "stdout",
     "output_type": "stream",
     "text": [
      "3.89 µs ± 264 ns per loop (mean ± std. dev. of 7 runs, 100000 loops each)\n"
     ]
    }
   ],
   "source": [
    "%%timeit\n",
    "flatten2([[1, 1], 2, [3, [5, 8]]])"
   ]
  },
  {
   "cell_type": "code",
   "execution_count": 11,
   "metadata": {},
   "outputs": [
    {
     "data": {
      "text/plain": [
       "[1, 1, 2, 3, 5, 8]"
      ]
     },
     "execution_count": 11,
     "metadata": {},
     "output_type": "execute_result"
    }
   ],
   "source": [
    "def flatten3(l):\n",
    "    return sum(map(flatten3, l), []) if isinstance(l, list) else [l]\n",
    "flatten3([[1, 1], 2, [3, [5, 8]]])"
   ]
  },
  {
   "cell_type": "code",
   "execution_count": 12,
   "metadata": {},
   "outputs": [
    {
     "name": "stdout",
     "output_type": "stream",
     "text": [
      "5.23 µs ± 327 ns per loop (mean ± std. dev. of 7 runs, 100000 loops each)\n"
     ]
    }
   ],
   "source": [
    "%%timeit\n",
    "flatten3([[1, 1], 2, [3, [5, 8]]])"
   ]
  },
  {
   "cell_type": "code",
   "execution_count": 13,
   "metadata": {},
   "outputs": [
    {
     "data": {
      "text/plain": [
       "[1, 1, 2, 3, 5, 8]"
      ]
     },
     "execution_count": 13,
     "metadata": {},
     "output_type": "execute_result"
    }
   ],
   "source": [
    "def flatten4(l):\n",
    "    if isinstance(l, list):\n",
    "        return flatten4(l[0]) + flatten4(l[1:]) if l else []\n",
    "    return [l]\n",
    "flatten4([[1, 1], 2, [3, [5, 8]]])"
   ]
  },
  {
   "cell_type": "code",
   "execution_count": 14,
   "metadata": {},
   "outputs": [
    {
     "name": "stdout",
     "output_type": "stream",
     "text": [
      "6.82 µs ± 256 ns per loop (mean ± std. dev. of 7 runs, 100000 loops each)\n"
     ]
    }
   ],
   "source": [
    "%%timeit\n",
    "flatten4([[1, 1], 2, [3, [5, 8]]])"
   ]
  },
  {
   "cell_type": "markdown",
   "metadata": {},
   "source": [
    "### P08 (*) Eliminate consecutive duplicates of list elements.\n",
    "\n",
    "If a list contains repeated elements, they should be replaced with a single copy of the element. The order of the elements should not be changed.\n",
    "\n",
    "Example:\n",
    "```kotlin\n",
    "> compress(\"aaaabccaadeeee\".toList())\n",
    "[a, b, c, a, d, e]\n",
    "```"
   ]
  },
  {
   "cell_type": "code",
   "execution_count": 15,
   "metadata": {},
   "outputs": [
    {
     "data": {
      "text/plain": [
       "['a', 'b', 'c', 'a', 'd', 'e']"
      ]
     },
     "execution_count": 15,
     "metadata": {},
     "output_type": "execute_result"
    }
   ],
   "source": [
    "def compress(l):\n",
    "    res = []\n",
    "    for i in l:\n",
    "        if not res or res[-1] != i:\n",
    "            res.append(i)\n",
    "    return res\n",
    "compress(list(\"aaaabccaadeeee\"))"
   ]
  },
  {
   "cell_type": "code",
   "execution_count": 16,
   "metadata": {},
   "outputs": [
    {
     "name": "stdout",
     "output_type": "stream",
     "text": [
      "2.03 µs ± 102 ns per loop (mean ± std. dev. of 7 runs, 100000 loops each)\n"
     ]
    }
   ],
   "source": [
    "%%timeit\n",
    "compress(list(\"aaaabccaadeeee\"))"
   ]
  },
  {
   "cell_type": "code",
   "execution_count": 17,
   "metadata": {},
   "outputs": [
    {
     "data": {
      "text/plain": [
       "['a', 'b', 'c', 'a', 'd', 'e']"
      ]
     },
     "execution_count": 17,
     "metadata": {},
     "output_type": "execute_result"
    }
   ],
   "source": [
    "from itertools import groupby\n",
    "def compress2(l):\n",
    "    return [k for k, _ in groupby(l)]\n",
    "compress2(list(\"aaaabccaadeeee\"))"
   ]
  },
  {
   "cell_type": "code",
   "execution_count": 18,
   "metadata": {},
   "outputs": [
    {
     "name": "stdout",
     "output_type": "stream",
     "text": [
      "2 µs ± 236 ns per loop (mean ± std. dev. of 7 runs, 1000000 loops each)\n"
     ]
    }
   ],
   "source": [
    "%%timeit\n",
    "compress2(list(\"aaaabccaadeeee\"))"
   ]
  },
  {
   "cell_type": "markdown",
   "metadata": {},
   "source": [
    "### P09 (*) Pack consecutive duplicates of list elements into sublists.\n",
    "\n",
    "If a list contains repeated elements, they should be placed in separate sublists.\n",
    "\n",
    "Example:\n",
    "```kotlin\n",
    "> pack(\"aaaabccaadeeee\".toList())\n",
    "[[a, a, a, a], [b], [c, c], [a, a], [d], [e, e, e, e]]\n",
    "```"
   ]
  },
  {
   "cell_type": "code",
   "execution_count": 19,
   "metadata": {},
   "outputs": [
    {
     "data": {
      "text/plain": [
       "[['a', 'a', 'a', 'a'],\n",
       " ['b'],\n",
       " ['c', 'c'],\n",
       " ['a', 'a'],\n",
       " ['d'],\n",
       " ['e', 'e', 'e', 'e']]"
      ]
     },
     "execution_count": 19,
     "metadata": {},
     "output_type": "execute_result"
    }
   ],
   "source": [
    "def pack(l):\n",
    "    res = []\n",
    "    for i in l:\n",
    "        if not res or res[-1][0] != i:\n",
    "            res.append([i])\n",
    "        else:\n",
    "            res[-1].append(i)\n",
    "    return res\n",
    "pack(list(\"aaaabccaadeeee\"))"
   ]
  },
  {
   "cell_type": "code",
   "execution_count": 20,
   "metadata": {},
   "outputs": [
    {
     "data": {
      "text/plain": [
       "[['a', 'a', 'a', 'a'],\n",
       " ['b'],\n",
       " ['c', 'c'],\n",
       " ['a', 'a'],\n",
       " ['d'],\n",
       " ['e', 'e', 'e', 'e']]"
      ]
     },
     "execution_count": 20,
     "metadata": {},
     "output_type": "execute_result"
    }
   ],
   "source": [
    "from itertools import groupby\n",
    "def pack2(l):\n",
    "    return [list(v) for _, v in groupby(l)]\n",
    "pack2(list(\"aaaabccaadeeee\"))"
   ]
  },
  {
   "cell_type": "markdown",
   "metadata": {},
   "source": [
    "### P10 (*) Run-length encoding of a list.\n",
    "\n",
    "Use the result of problem P09 to implement the so-called run-length encoding data compression method. Consecutive duplicates of elements are encoded as tuples (N, E) where N is the number of duplicates of the element E.\n",
    "\n",
    "Example:\n",
    "```kotlin\n",
    "> encode(\"aaaabccaadeeee\".toList())\n",
    "[(4, a), (1, b), (2, c), (2, a), (1, d), (4, e)]\n",
    "```"
   ]
  },
  {
   "cell_type": "code",
   "execution_count": 21,
   "metadata": {},
   "outputs": [
    {
     "data": {
      "text/plain": [
       "[(4, 'a'), (1, 'b'), (2, 'c'), (2, 'a'), (1, 'd'), (4, 'e')]"
      ]
     },
     "execution_count": 21,
     "metadata": {},
     "output_type": "execute_result"
    }
   ],
   "source": [
    "def encode(l):\n",
    "    return [(len(i), i[0]) for i in pack(l)]\n",
    "encode(list(\"aaaabccaadeeee\"))"
   ]
  },
  {
   "cell_type": "markdown",
   "metadata": {},
   "source": [
    "### P11 (*) Modified run-length encoding.\n",
    "\n",
    "Modify the result of problem P10 in such a way that if an element has no duplicates it is simply copied into the result list. Only elements with duplicates are transferred as (N, E) terms.\n",
    "\n",
    "Example:\n",
    "```kotlin\n",
    "> encodeModified(\"aaaabccaadeeee\".toList())\n",
    "[(4, a), b, (2, c), (2, a), d, (4, e)]\n",
    "```"
   ]
  },
  {
   "cell_type": "code",
   "execution_count": 22,
   "metadata": {},
   "outputs": [
    {
     "data": {
      "text/plain": [
       "[(4, 'a'), 'b', (2, 'c'), (2, 'a'), 'd', (4, 'e')]"
      ]
     },
     "execution_count": 22,
     "metadata": {},
     "output_type": "execute_result"
    }
   ],
   "source": [
    "def encode_modified(l):\n",
    "    return [t if t[0] > 1 else t[1] for t in encode(l)]\n",
    "encode_modified(list(\"aaaabccaadeeee\"))"
   ]
  },
  {
   "cell_type": "markdown",
   "metadata": {},
   "source": [
    "### P12 (*) Decode a run-length encoded list.\n",
    "\n",
    "Given a run-length code list generated as specified in problem P10, construct its uncompressed version.\n",
    "\n",
    "Example:\n",
    "```kotlin\n",
    "> decode(listOf(4 to 'a', 1 to 'b', 2 to 'c', 2 to 'a', 1 to 'd', 4 to 'e'))\n",
    "[a, a, a, a, b, c, c, a, a, d, e, e, e, e]\n",
    "```"
   ]
  },
  {
   "cell_type": "code",
   "execution_count": 23,
   "metadata": {},
   "outputs": [
    {
     "data": {
      "text/plain": [
       "['a', 'a', 'a', 'a', 'b', 'c', 'c', 'a', 'a', 'd', 'e', 'e', 'e', 'e']"
      ]
     },
     "execution_count": 23,
     "metadata": {},
     "output_type": "execute_result"
    }
   ],
   "source": [
    "def decode(l):\n",
    "    res = []\n",
    "    for t in l:\n",
    "        res += [t[1]] * t[0]\n",
    "    return res\n",
    "decode([(4, 'a'), (1, 'b'), (2, 'c'), (2, 'a'), (1, 'd'), (4, 'e')])"
   ]
  },
  {
   "cell_type": "code",
   "execution_count": 24,
   "metadata": {},
   "outputs": [
    {
     "data": {
      "text/plain": [
       "['a', 'a', 'a', 'a', 'b', 'c', 'c', 'a', 'a', 'd', 'e', 'e', 'e', 'e']"
      ]
     },
     "execution_count": 24,
     "metadata": {},
     "output_type": "execute_result"
    }
   ],
   "source": [
    "def decode2(l):\n",
    "    return [l[0][1]] * l[0][0] + decode2(l[1:]) if l else []\n",
    "decode2([(4, 'a'), (1, 'b'), (2, 'c'), (2, 'a'), (1, 'd'), (4, 'e')])"
   ]
  },
  {
   "cell_type": "markdown",
   "metadata": {},
   "source": [
    "### P13 (*) Run-length encoding of a list (direct solution).\n",
    "\n",
    "Implement the so-called run-length encoding data compression method directly. I.e. don't use other methods you've written (like P09's pack); do all the work directly.\n",
    "\n",
    "Example:\n",
    "```kotlin\n",
    "> encodeDirect(\"aaaabccaadeeee\".toList())\n",
    "[(4, a), (1, b), (2, c), (2, a), (1, d), (4, e)]\n",
    "```"
   ]
  },
  {
   "cell_type": "code",
   "execution_count": 25,
   "metadata": {},
   "outputs": [
    {
     "data": {
      "text/plain": [
       "[(4, 'a'), (1, 'b'), (2, 'c'), (2, 'a'), (1, 'd'), (4, 'e')]"
      ]
     },
     "execution_count": 25,
     "metadata": {},
     "output_type": "execute_result"
    }
   ],
   "source": [
    "def encode_direct(l):\n",
    "    res = []\n",
    "    for i in l:\n",
    "        if not res or res[-1][1] != i:\n",
    "            res.append([1, i])\n",
    "        else:\n",
    "            res[-1][0] += 1\n",
    "    return list(map(tuple, res))\n",
    "encode_direct(list(\"aaaabccaadeeee\"))"
   ]
  },
  {
   "cell_type": "code",
   "execution_count": 26,
   "metadata": {},
   "outputs": [
    {
     "data": {
      "text/plain": [
       "[(4, 'a'), (1, 'b'), (2, 'c'), (2, 'a'), (1, 'd'), (4, 'e')]"
      ]
     },
     "execution_count": 26,
     "metadata": {},
     "output_type": "execute_result"
    }
   ],
   "source": [
    "from itertools import groupby    \n",
    "def encode_direct2(l):\n",
    "    return [(len(v), k)for k, v in groupby(l)]\n",
    "encode_direct(list(\"aaaabccaadeeee\"))"
   ]
  },
  {
   "cell_type": "markdown",
   "metadata": {},
   "source": [
    "### P14 (*) Duplicate the elements of a list.\n",
    "\n",
    "Example:\n",
    "```ktolin\n",
    "> duplicate(\"abccd\".toList())\n",
    "[a, a, b, b, c, c, c, c, d, d]\n",
    "```"
   ]
  },
  {
   "cell_type": "code",
   "execution_count": 27,
   "metadata": {},
   "outputs": [
    {
     "data": {
      "text/plain": [
       "['a', 'a', 'b', 'b', 'c', 'c', 'c', 'c', 'd', 'd']"
      ]
     },
     "execution_count": 27,
     "metadata": {},
     "output_type": "execute_result"
    }
   ],
   "source": [
    "def duplicate(l):\n",
    "    res = []\n",
    "    for i in l:\n",
    "        res.extend((i, i))\n",
    "    return res\n",
    "duplicate(list(\"abccd\"))"
   ]
  },
  {
   "cell_type": "code",
   "execution_count": 28,
   "metadata": {},
   "outputs": [
    {
     "data": {
      "text/plain": [
       "['a', 'a', 'b', 'b', 'c', 'c', 'c', 'c', 'd', 'd']"
      ]
     },
     "execution_count": 28,
     "metadata": {},
     "output_type": "execute_result"
    }
   ],
   "source": [
    "def duplicate2(l):\n",
    "    return [l[0]] * 2 + duplicate2(l[1:]) if l else []\n",
    "duplicate2(list(\"abccd\"))"
   ]
  },
  {
   "cell_type": "markdown",
   "metadata": {},
   "source": [
    "### P15 (*) Duplicate the elements of a list a given number of times.\n",
    "\n",
    "Example:\n",
    "```kotlin\n",
    "> duplicateN(3, \"abccd\".toList())\n",
    "[a, a, a, b, b, b, c, c, c, c, c, c, d, d, d]\n",
    "```"
   ]
  },
  {
   "cell_type": "code",
   "execution_count": 29,
   "metadata": {},
   "outputs": [
    {
     "data": {
      "text/plain": [
       "['a', 'a', 'a', 'b', 'b', 'b', 'c', 'c', 'c', 'c', 'c', 'c', 'd', 'd', 'd']"
      ]
     },
     "execution_count": 29,
     "metadata": {},
     "output_type": "execute_result"
    }
   ],
   "source": [
    "def duplicate_n(n, l):\n",
    "    res = []\n",
    "    for i in l:\n",
    "        res.extend([i] * n)\n",
    "    return res\n",
    "duplicate_n(3, list(\"abccd\"))"
   ]
  },
  {
   "cell_type": "code",
   "execution_count": 30,
   "metadata": {},
   "outputs": [
    {
     "data": {
      "text/plain": [
       "['a', 'a', 'a', 'b', 'b', 'b', 'c', 'c', 'c', 'c', 'c', 'c', 'd', 'd', 'd']"
      ]
     },
     "execution_count": 30,
     "metadata": {},
     "output_type": "execute_result"
    }
   ],
   "source": [
    "def duplicate_n2(n, l):\n",
    "    return [l[0]] * n + duplicate_n2(n, l[1:]) if l else []\n",
    "duplicate_n2(3, list(\"abccd\"))"
   ]
  },
  {
   "cell_type": "markdown",
   "metadata": {},
   "source": [
    "### P16 (*) Drop every Nth element from a list.\n",
    "\n",
    "Example:\n",
    "```kotlin\n",
    "> drop(3, \"abcdefghijk\".toList())\n",
    "[a, b, d, e, g, h, j, k]\n",
    "```"
   ]
  },
  {
   "cell_type": "code",
   "execution_count": 31,
   "metadata": {},
   "outputs": [
    {
     "data": {
      "text/plain": [
       "['a', 'b', 'd', 'e', 'f', 'g', 'h', 'i', 'j', 'k']"
      ]
     },
     "execution_count": 31,
     "metadata": {},
     "output_type": "execute_result"
    }
   ],
   "source": [
    "def drop(n, l):\n",
    "    l.pop(n-1)\n",
    "    return l\n",
    "drop(3, list(\"abcdefghijk\"))"
   ]
  },
  {
   "cell_type": "code",
   "execution_count": 32,
   "metadata": {},
   "outputs": [
    {
     "data": {
      "text/plain": [
       "['a', 'b', 'd', 'e', 'f', 'g', 'h', 'i', 'j', 'k']"
      ]
     },
     "execution_count": 32,
     "metadata": {},
     "output_type": "execute_result"
    }
   ],
   "source": [
    "def drop2(n, l):\n",
    "    return [l[0]] * bool(n-1) + drop2(n-1, l[1:]) if l else []\n",
    "drop2(3, list(\"abcdefghijk\"))"
   ]
  },
  {
   "cell_type": "markdown",
   "metadata": {},
   "source": [
    "### P17 (*) Split a list into two parts.\n",
    "\n",
    "The length of the first part is given. Use a Tuple for your result.\n",
    "\n",
    "Example:\n",
    "```kotlin\n",
    "> split(3, \"abcdefghijk\".toList())\n",
    "([a, b, c], [d, e, f, g, h, i, j, k])\n",
    "```"
   ]
  },
  {
   "cell_type": "code",
   "execution_count": 33,
   "metadata": {},
   "outputs": [
    {
     "data": {
      "text/plain": [
       "(['a', 'b', 'c'], ['d', 'e', 'f', 'g', 'h', 'i', 'j', 'k'])"
      ]
     },
     "execution_count": 33,
     "metadata": {},
     "output_type": "execute_result"
    }
   ],
   "source": [
    "def split(n, l):\n",
    "    res = [[], []]\n",
    "    for i, v in enumerate(l):\n",
    "        res[int(i>=n)].append(v)\n",
    "    return tuple(res)\n",
    "split(3, list(\"abcdefghijk\"))"
   ]
  },
  {
   "cell_type": "code",
   "execution_count": 34,
   "metadata": {},
   "outputs": [
    {
     "data": {
      "text/plain": [
       "(['a', 'b', 'c'], ['d', 'e', 'f', 'g', 'h', 'i', 'j', 'k'])"
      ]
     },
     "execution_count": 34,
     "metadata": {},
     "output_type": "execute_result"
    }
   ],
   "source": [
    "def split2(n, l):\n",
    "    return (l[:n], l[n:])\n",
    "split2(3, list(\"abcdefghijk\"))"
   ]
  },
  {
   "cell_type": "markdown",
   "metadata": {},
   "source": [
    "### P18 (*) Extract a slice from a list.\n",
    "\n",
    "Given two indices, I and K, the slice is the list containing the elements from and including the Ith element up to but not including the Kth element of the original list. Start counting the elements with 0.\n",
    "\n",
    "Example:\n",
    "```kotlin\n",
    "> slice(3, 7, \"abcdefghijk\".toList())\n",
    "[d, e, f, g]\n",
    "```"
   ]
  },
  {
   "cell_type": "code",
   "execution_count": 35,
   "metadata": {},
   "outputs": [
    {
     "data": {
      "text/plain": [
       "['d', 'e', 'f', 'g']"
      ]
     },
     "execution_count": 35,
     "metadata": {},
     "output_type": "execute_result"
    }
   ],
   "source": [
    "def slice(start, stop, l):\n",
    "    return l[start:stop]\n",
    "slice(3, 7, list(\"abcdefghijk\"))"
   ]
  },
  {
   "cell_type": "code",
   "execution_count": 36,
   "metadata": {},
   "outputs": [
    {
     "data": {
      "text/plain": [
       "['d', 'e', 'f', 'g']"
      ]
     },
     "execution_count": 36,
     "metadata": {},
     "output_type": "execute_result"
    }
   ],
   "source": [
    "from itertools import islice\n",
    "def slice2(start, stop, l):\n",
    "    return list(islice(l, start, stop))\n",
    "slice2(3, 7, list(\"abcdefghijk\"))"
   ]
  },
  {
   "cell_type": "markdown",
   "metadata": {},
   "source": [
    "### P19 (*) Rotate a list N places to the left.\n",
    "\n",
    "Examples:\n",
    "```kotlin\n",
    "> rotate(3, \"abcdefghijk\".toList())\n",
    "[d, e, f, g, h, i, j, k, a, b, c]\n",
    "\n",
    "> rotate(-2, \"abcdefghijk\".toList())\n",
    "[j, k, a, b, c, d, e, f, g, h, i]\n",
    "```"
   ]
  },
  {
   "cell_type": "code",
   "execution_count": 37,
   "metadata": {},
   "outputs": [
    {
     "name": "stdout",
     "output_type": "stream",
     "text": [
      "['d', 'e', 'f', 'g', 'h', 'i', 'j', 'k', 'a', 'b', 'c']\n",
      "['j', 'k', 'a', 'b', 'c', 'd', 'e', 'f', 'g', 'h', 'i']\n"
     ]
    }
   ],
   "source": [
    "def rotate(n, l):\n",
    "    return l[n:] + l[:n]\n",
    "print(rotate(3, list(\"abcdefghijk\")))\n",
    "print(rotate(-2, list(\"abcdefghijk\")))"
   ]
  },
  {
   "cell_type": "code",
   "execution_count": 38,
   "metadata": {},
   "outputs": [
    {
     "name": "stdout",
     "output_type": "stream",
     "text": [
      "['d', 'e', 'f', 'g', 'h', 'i', 'j', 'k', 'a', 'b', 'c']\n",
      "['j', 'k', 'a', 'b', 'c', 'd', 'e', 'f', 'g', 'h', 'i']\n"
     ]
    }
   ],
   "source": [
    "def rotate2(n, l):\n",
    "    length = len(l)\n",
    "    return [l[(i + n) % length] for i in range(length)]\n",
    "print(rotate2(3, list(\"abcdefghijk\")))\n",
    "print(rotate2(-2, list(\"abcdefghijk\")))"
   ]
  },
  {
   "cell_type": "markdown",
   "metadata": {},
   "source": [
    "### P20 (*) Remove the Kth element from a list.\n",
    "\n",
    "Return the list and the removed element in a Tuple. Elements are numbered from 0.\n",
    "\n",
    "Example:\n",
    "```kotlin\n",
    "> removeAt(1, \"abcd\".toList())\n",
    "([a, c, d], b)\n",
    "```"
   ]
  },
  {
   "cell_type": "code",
   "execution_count": 39,
   "metadata": {},
   "outputs": [
    {
     "data": {
      "text/plain": [
       "(['a', 'c', 'd'], 'b')"
      ]
     },
     "execution_count": 39,
     "metadata": {},
     "output_type": "execute_result"
    }
   ],
   "source": [
    "def remove_at(index, l):\n",
    "    return (l, l.pop(index))\n",
    "remove_at(1, list(\"abcd\"))"
   ]
  },
  {
   "cell_type": "markdown",
   "metadata": {},
   "source": [
    "### P21 (*) Insert an element at a given position into a list.\n",
    "\n",
    "Example:\n",
    "```kotlin\n",
    "> insertAt('X', 1, \"abcd\".toList())\n",
    "[a, X, b, c, d]\n",
    "```"
   ]
  },
  {
   "cell_type": "code",
   "execution_count": 40,
   "metadata": {},
   "outputs": [
    {
     "data": {
      "text/plain": [
       "['a', 'X', 'b', 'c', 'd']"
      ]
     },
     "execution_count": 40,
     "metadata": {},
     "output_type": "execute_result"
    }
   ],
   "source": [
    "def insert_at(value, index, l):\n",
    "    return l[:index] + [value] + l[index:]\n",
    "insert_at('X', 1, list(\"abcd\"))"
   ]
  },
  {
   "cell_type": "markdown",
   "metadata": {},
   "source": [
    "### P22 (*) Create a list containing all integers within a given range.\n",
    "\n",
    "Example:\n",
    "```kotlin\n",
    "> range(4, 9)\n",
    "[4, 5, 6, 7, 8, 9]\n",
    "```"
   ]
  },
  {
   "cell_type": "code",
   "execution_count": 41,
   "metadata": {},
   "outputs": [
    {
     "data": {
      "text/plain": [
       "[4, 5, 6, 7, 8, 9]"
      ]
     },
     "execution_count": 41,
     "metadata": {},
     "output_type": "execute_result"
    }
   ],
   "source": [
    "def range_(start, stop):\n",
    "    return list(range(start, stop+1))\n",
    "range_(4, 9)"
   ]
  },
  {
   "cell_type": "code",
   "execution_count": 42,
   "metadata": {},
   "outputs": [
    {
     "data": {
      "text/plain": [
       "[4, 5, 6, 7, 8, 9]"
      ]
     },
     "execution_count": 42,
     "metadata": {},
     "output_type": "execute_result"
    }
   ],
   "source": [
    "def range2(start, stop):\n",
    "    return [start] + range2(start+1, stop) if start <= stop else []\n",
    "range2(4, 9)"
   ]
  },
  {
   "cell_type": "markdown",
   "metadata": {},
   "source": [
    "### P23 (*) Extract a given number of randomly selected elements from a list.\n",
    "\n",
    "Make sure there is a way to produce deterministic results.\n",
    "\n",
    "Example:\n",
    "```kotlin\n",
    "> randomSelect(3, \"abcdefgh\".toList())\n",
    "[c, h, f]\n",
    "```"
   ]
  },
  {
   "cell_type": "code",
   "execution_count": 43,
   "metadata": {},
   "outputs": [
    {
     "data": {
      "text/plain": [
       "['g', 'h', 'd']"
      ]
     },
     "execution_count": 43,
     "metadata": {},
     "output_type": "execute_result"
    }
   ],
   "source": [
    "import random\n",
    "random.seed(0)\n",
    "def random_select(n, l):\n",
    "    if not n:\n",
    "        return []\n",
    "    selected = l[random.randint(0, len(l)-1)]\n",
    "    return [selected] + random_select(n-1, [i for i in l if i != selected])\n",
    "random_select(3, list(\"abcdefgh\"))"
   ]
  },
  {
   "cell_type": "markdown",
   "metadata": {},
   "source": [
    "### P24 (*) Lotto: Draw N different random numbers from the set 1..M.\n",
    "\n",
    "Make sure there is a way to produce deterministic results.\n",
    "\n",
    "Example:\n",
    "```kotlin\n",
    "> lotto(3, 49)\n",
    "[32, 28, 8]\n",
    "```"
   ]
  },
  {
   "cell_type": "code",
   "execution_count": 44,
   "metadata": {},
   "outputs": [
    {
     "data": {
      "text/plain": [
       "[3, 18, 35]"
      ]
     },
     "execution_count": 44,
     "metadata": {},
     "output_type": "execute_result"
    }
   ],
   "source": [
    "def lotto(n, max):\n",
    "    return random_select(n, list(range(1, max+1)))\n",
    "lotto(3, 49)"
   ]
  },
  {
   "cell_type": "markdown",
   "metadata": {},
   "source": [
    "### P25 (*) Generate a random permutation of the elements of a list.\n",
    "\n",
    "Make sure there is a way to produce deterministic results. Hint: Use the solution of problem P23.\n",
    "\n",
    "Example:\n",
    "```kotlin\n",
    "> randomPermute(\"abcdef\".toList())\n",
    "[d, b, e, f, a, c]\n",
    "```"
   ]
  },
  {
   "cell_type": "code",
   "execution_count": 45,
   "metadata": {},
   "outputs": [
    {
     "data": {
      "text/plain": [
       "['d', 'e', 'c', 'b', 'f', 'a']"
      ]
     },
     "execution_count": 45,
     "metadata": {},
     "output_type": "execute_result"
    }
   ],
   "source": [
    "def random_permute(l):\n",
    "    return random_select(len(l), l)\n",
    "random_permute(list(\"abcdef\"))"
   ]
  },
  {
   "cell_type": "markdown",
   "metadata": {},
   "source": [
    "### P26 (**) Generate the combinations of K distinct objects chosen from the N elements of a list.\n",
    "\n",
    "In how many ways can a committee of 3 be chosen from a group of 12 people? There are C(12,3) = 220 possibilities, where C(N,K) denotes binomial coefficient. For pure mathematicians, this result may be great. But we want to really generate all the possibilities.\n",
    "\n",
    "Example:\n",
    "```kotlin\n",
    "> combinations(3, \"abcde\".toList())\n",
    "[[c, b, a], [d, b, a], [e, b, a], [d, c, a], [e, c, a], [e, d, a], [d, c, b], [e, c, b], [e, d, b], [e, d, c]]\n",
    "```"
   ]
  },
  {
   "cell_type": "code",
   "execution_count": 46,
   "metadata": {},
   "outputs": [
    {
     "data": {
      "text/plain": [
       "[['a', 'b', 'c'],\n",
       " ['a', 'b', 'd'],\n",
       " ['a', 'b', 'e'],\n",
       " ['a', 'c', 'd'],\n",
       " ['a', 'c', 'e'],\n",
       " ['a', 'd', 'e'],\n",
       " ['b', 'c', 'd'],\n",
       " ['b', 'c', 'e'],\n",
       " ['b', 'd', 'e'],\n",
       " ['c', 'd', 'e']]"
      ]
     },
     "execution_count": 46,
     "metadata": {},
     "output_type": "execute_result"
    }
   ],
   "source": [
    "from itertools import combinations\n",
    "def combinations_(n, l):\n",
    "    return list(map(list, combinations(l, n)))\n",
    "combinations_(3, list(\"abcde\"))"
   ]
  },
  {
   "cell_type": "markdown",
   "metadata": {},
   "source": [
    "### P27 (**) Group the elements of a set into disjoint subsets.\n",
    "\n",
    "* a) In how many ways can a group of 9 people work in 3 disjoint subgroups of 2, 3 and 4 persons? Write a function that generates all the possibilities.\n",
    "\n",
    "Example:\n",
    "```kotlin\n",
    "> group3(listOf(\"Aldo\", \"Beat\", \"Carla\", \"David\", \"Evi\", \"Flip\", \"Gary\", \"Hugo\", \"Ida\"))\n",
    "[[[\"Ida\", \"Hugo\", \"Gary\", \"Flip\"], [\"Evi\", \"David\", \"Carla\"], [\"Beat\", \"Aldo\"]], ...\n",
    "```\n",
    "\n",
    "* b) Generalize the above predicate in a way that we can specify a list of group sizes and the predicate will return a list of groups. \n",
    "\n",
    "Example:\n",
    "```kotlin\n",
    "> group(listOf(2, 2, 5), listOf(\"Aldo\", \"Beat\", \"Carla\", \"David\", \"Evi\", \"Flip\", \"Gary\", \"Hugo\", \"Ida\"))\n",
    "[[[\"Ida\", \"Hugo\", \"Gary\", \"Flip\", \"Evi\"], [\"David\", \"Carla\"], [\"Beat\", \"Aldo\"]], ...\n",
    "```\n",
    "Note that we do not want permutations of the group members, i.e. [[Aldo, Beat], ...]] is the same solution as [[Beat, Aldo], ...]. However, [[Aldo, Beat], [Carla, David], ...] and [[Carla, David], [Aldo, Beat], ...] are considered to be different solutions.\n",
    "\n",
    "You may find more about this combinatorial problem in a good book on discrete mathematics under the term multinomial coefficients."
   ]
  },
  {
   "cell_type": "code",
   "execution_count": 47,
   "metadata": {
    "scrolled": true
   },
   "outputs": [
    {
     "name": "stdout",
     "output_type": "stream",
     "text": [
      "[[['Aldo', 'Beat'], ['Carla', 'David', 'Evi'], ['Flip', 'Gary', 'Hugo', 'Ida']]]\n"
     ]
    },
    {
     "data": {
      "text/plain": [
       "[[['Aldo', 'Beat'],\n",
       "  ['Carla', 'David'],\n",
       "  ['Evi', 'Flip', 'Gary', 'Hugo', 'Ida']]]"
      ]
     },
     "execution_count": 47,
     "metadata": {},
     "output_type": "execute_result"
    }
   ],
   "source": [
    "from functools import reduce\n",
    "from itertools import combinations, product\n",
    "def group(sizes, l):\n",
    "    return [\n",
    "        list(t)\n",
    "        for t in product(*(map(list, combinations(l, s)) for s in sizes))\n",
    "        if len(reduce(lambda x, y: set(x)|set(y), t)) == len(l)\n",
    "    ]\n",
    "def group3(l):\n",
    "    return group([2, 3, 4], l)\n",
    "print(group3([\"Aldo\", \"Beat\", \"Carla\", \"David\", \"Evi\", \"Flip\", \"Gary\", \"Hugo\", \"Ida\"])[:1])\n",
    "group([2, 2, 5], [\"Aldo\", \"Beat\", \"Carla\", \"David\", \"Evi\", \"Flip\", \"Gary\", \"Hugo\", \"Ida\"])[:1]"
   ]
  },
  {
   "cell_type": "markdown",
   "metadata": {},
   "source": [
    "### P28 (*) Sorting a list of lists according to length of sublists.\n",
    "\n",
    "* a) We suppose that a list contains elements that are lists themselves. The objective is to sort elements of the list according to their length. E.g. short lists first, longer lists later, or vice versa. \n",
    "\n",
    "Example:\n",
    "```kotlin\n",
    "> lengthSort(listOf(\"abc\".toList(), \"de\".toList(), \"fgh\".toList(), \"de\".toList(), \"ijkl\".toList(), \"mn\".toList(), \"o\".toList()))\n",
    "[[o], [d, e], [d, e], [m, n], [a, b, c], [f, g, h], [i, j, k, l]]\n",
    "```\n",
    "\n",
    "* b) Again, we suppose that a list contains elements that are lists themselves. But this time the objective is to sort elements according to their length frequency; i.e. in the default, sorting is done ascendingly, lists with rare lengths are placed, others with a more frequent length come later. \n",
    "\n",
    "Example:\n",
    "```kotlin\n",
    "> lengthFreqSort(listOf(\"abc\".toList(), \"de\".toList(), \"fgh\".toList(), \"de\".toList(), \"ijkl\".toList(), \"mn\".toList(), \"o\".toList()))\n",
    "[[i, j, k, l], [o], [a, b, c], [f, g, h], [d, e], [d, e], [m, n]]\n",
    "```\n",
    "\n",
    "Note that in the above example, the first two lists in the result have length 4 and 1 and both lengths appear just once. The third and fourth lists have length 3 and there are two list of this length. Finally, the last three lists have length 2. This is the most frequent length."
   ]
  },
  {
   "cell_type": "code",
   "execution_count": 48,
   "metadata": {},
   "outputs": [
    {
     "data": {
      "text/plain": [
       "[['o'],\n",
       " ['d', 'e'],\n",
       " ['d', 'e'],\n",
       " ['m', 'n'],\n",
       " ['a', 'b', 'c'],\n",
       " ['f', 'g', 'h'],\n",
       " ['i', 'j', 'k', 'l']]"
      ]
     },
     "execution_count": 48,
     "metadata": {},
     "output_type": "execute_result"
    }
   ],
   "source": [
    "def length_sort(l):\n",
    "    return sorted(l, key=lambda x: len(x))\n",
    "length_sort([list(\"abc\"), list(\"de\"), list(\"fgh\"), list(\"de\"), list(\"ijkl\"), list(\"mn\"), list(\"o\")])"
   ]
  },
  {
   "cell_type": "code",
   "execution_count": 49,
   "metadata": {},
   "outputs": [
    {
     "data": {
      "text/plain": [
       "[['i', 'j', 'k', 'l'],\n",
       " ['o'],\n",
       " ['a', 'b', 'c'],\n",
       " ['f', 'g', 'h'],\n",
       " ['d', 'e'],\n",
       " ['d', 'e'],\n",
       " ['m', 'n']]"
      ]
     },
     "execution_count": 49,
     "metadata": {},
     "output_type": "execute_result"
    }
   ],
   "source": [
    "from itertools import groupby\n",
    "def length_freq_sort(l):\n",
    "    grouped = {}\n",
    "    for k, v in groupby(l, lambda x: len(x)):\n",
    "        grouped.setdefault(k, [])\n",
    "        grouped[k].append(next(v))\n",
    "    counts = {}\n",
    "    for k, v in grouped.items():\n",
    "        for i in v:\n",
    "            counts[tuple(i)] = len(v)\n",
    "    return sorted(l, key=lambda x: counts[tuple(x)])\n",
    "length_freq_sort([list(\"abc\"), list(\"de\"), list(\"fgh\"), list(\"de\"), list(\"ijkl\"), list(\"mn\"), list(\"o\")])"
   ]
  },
  {
   "cell_type": "markdown",
   "metadata": {},
   "source": [
    "### P31 (*) Determine whether a given integer number is prime.\n",
    "```kotlin\n",
    "> 7.isPrime()\n",
    "true\n",
    "```"
   ]
  },
  {
   "cell_type": "code",
   "execution_count": 50,
   "metadata": {},
   "outputs": [],
   "source": [
    "import math\n",
    "def is_prime(n):\n",
    "    if n == 2:\n",
    "        return True\n",
    "    elif n < 2 or pow(2, n-1, n) != 1:\n",
    "        return False\n",
    "    for i in range(3, int(math.sqrt(n) + 1), 2):\n",
    "        if n % i == 0:\n",
    "            return False\n",
    "    return True"
   ]
  },
  {
   "cell_type": "code",
   "execution_count": 51,
   "metadata": {
    "scrolled": false
   },
   "outputs": [
    {
     "data": {
      "text/plain": [
       "True"
      ]
     },
     "execution_count": 51,
     "metadata": {},
     "output_type": "execute_result"
    }
   ],
   "source": [
    "is_prime(7)"
   ]
  },
  {
   "cell_type": "markdown",
   "metadata": {},
   "source": [
    "### P32 (*) Determine the greatest common divisor of two positive integer numbers.\n",
    "\n",
    "Use Euclid's algorithm.\n",
    "```kotlin\n",
    "> gcd(36, 63)\n",
    "9\n",
    "```"
   ]
  },
  {
   "cell_type": "code",
   "execution_count": 52,
   "metadata": {},
   "outputs": [
    {
     "name": "stdout",
     "output_type": "stream",
     "text": [
      "9\n"
     ]
    },
    {
     "data": {
      "text/plain": [
       "9"
      ]
     },
     "execution_count": 52,
     "metadata": {},
     "output_type": "execute_result"
    }
   ],
   "source": [
    "import math\n",
    "def gcd(a, b):\n",
    "    while b:\n",
    "        a, b = b, a%b\n",
    "    return a\n",
    "print(math.gcd(36, 63))\n",
    "gcd(36, 63)"
   ]
  },
  {
   "cell_type": "markdown",
   "metadata": {},
   "source": [
    "### Two numbers are coprime if their greatest common divisor equals 1.\n",
    "```kotlin\n",
    "> 35.isCoprimeTo(64)\n",
    "true\n",
    "```"
   ]
  },
  {
   "cell_type": "code",
   "execution_count": 53,
   "metadata": {},
   "outputs": [
    {
     "data": {
      "text/plain": [
       "True"
      ]
     },
     "execution_count": 53,
     "metadata": {},
     "output_type": "execute_result"
    }
   ],
   "source": [
    "def is_coprime_to(a, b):\n",
    "    return gcd(a, b) == 1\n",
    "is_coprime_to(35, 64)"
   ]
  },
  {
   "cell_type": "markdown",
   "metadata": {},
   "source": [
    "### P34 (*) Calculate Euler's totient function phi(m).\n",
    "\n",
    "Euler's so-called totient function phi(m) is defined as the number of positive integers r (1 <= r <= m) that are coprime to m.\n",
    "```kotlin\n",
    "> 10.totient()\n",
    "4\n",
    "```"
   ]
  },
  {
   "cell_type": "code",
   "execution_count": 54,
   "metadata": {},
   "outputs": [
    {
     "data": {
      "text/plain": [
       "4"
      ]
     },
     "execution_count": 54,
     "metadata": {},
     "output_type": "execute_result"
    }
   ],
   "source": [
    "def totient(n):\n",
    "    return sum(is_coprime_to(n, i) for i in range(1, n))\n",
    "totient(10)"
   ]
  },
  {
   "cell_type": "markdown",
   "metadata": {},
   "source": [
    "### P35 (*) Determine prime factors of a given positive integer.\n",
    "\n",
    "Construct a list containing prime factors in ascending order.\n",
    "```kotlin\n",
    "> 315.primeFactors()\n",
    "[3, 3, 5, 7]\n",
    "```"
   ]
  },
  {
   "cell_type": "code",
   "execution_count": 55,
   "metadata": {},
   "outputs": [
    {
     "data": {
      "text/plain": [
       "[3, 3, 5, 7]"
      ]
     },
     "execution_count": 55,
     "metadata": {},
     "output_type": "execute_result"
    }
   ],
   "source": [
    "def prime_factors(n):\n",
    "    p = 2\n",
    "    l = []\n",
    "    while(n > 1):\n",
    "        while(n % p == 0):\n",
    "            l.append(p)\n",
    "            n //= p\n",
    "        p += 1\n",
    "        while(not is_prime(p)):\n",
    "            p += 1\n",
    "    return l\n",
    "prime_factors(315)"
   ]
  },
  {
   "cell_type": "code",
   "execution_count": 56,
   "metadata": {},
   "outputs": [
    {
     "data": {
      "text/plain": [
       "[3, 3, 5, 7]"
      ]
     },
     "execution_count": 56,
     "metadata": {},
     "output_type": "execute_result"
    }
   ],
   "source": [
    "def prime_factors2(n, p=2):\n",
    "    if n <= 1:\n",
    "        return []\n",
    "    if is_prime(p) and n % p == 0:\n",
    "        return [p] + prime_factors2(n//p, p)\n",
    "    return prime_factors2(n, p+1)\n",
    "prime_factors2(315)"
   ]
  },
  {
   "cell_type": "markdown",
   "metadata": {},
   "source": [
    "### P36 (*) Determine the prime factors of a given positive integer (2).\n",
    "\n",
    "Construct a list containing prime factors and their multiplicity.\n",
    "```kotlin\n",
    "> 315.primeFactorMultiplicity()\n",
    "[(3, 2), (5, 1), (7, 1)]\n",
    "```"
   ]
  },
  {
   "cell_type": "code",
   "execution_count": 57,
   "metadata": {},
   "outputs": [
    {
     "data": {
      "text/plain": [
       "[(3, 2), (5, 1), (7, 1)]"
      ]
     },
     "execution_count": 57,
     "metadata": {},
     "output_type": "execute_result"
    }
   ],
   "source": [
    "def prime_factor_multiplicity(n):\n",
    "    p = 2\n",
    "    l = []\n",
    "    while(n > 1):\n",
    "        c = 0\n",
    "        while(n % p == 0):\n",
    "            c += 1\n",
    "            n //= p\n",
    "        if c:\n",
    "            l.append((p, c))\n",
    "        p += 1\n",
    "        while(not is_prime(p)):\n",
    "            p += 1\n",
    "    return l\n",
    "prime_factor_multiplicity(315)"
   ]
  },
  {
   "cell_type": "markdown",
   "metadata": {},
   "source": [
    "### P37 (*) Calculate Euler's totient function phi(m) (improved).\n",
    "\n",
    "See problem P34 for the definition of Euler's totient function. If the list of the prime factors of a number m is known in the form of problem P36, then the function phi(m) can be efficiently calculated as follows: Let `[[p1, m1], [p2, m2], [p3, m3], ...]` be the list of prime factors (and their multiplicities) of a given number m. Then phi(m) can be calculated with the following formula: `phi(m) = (p1-1)*p1^(m1-1) * (p2-1)*p2^(m2-1) * (p3-1)*p3^(m3-1) * ...`"
   ]
  },
  {
   "cell_type": "code",
   "execution_count": 58,
   "metadata": {},
   "outputs": [
    {
     "data": {
      "text/plain": [
       "4"
      ]
     },
     "execution_count": 58,
     "metadata": {},
     "output_type": "execute_result"
    }
   ],
   "source": [
    "from functools import reduce\n",
    "def totient_improved(n):\n",
    "    res = 1\n",
    "    for p, m in prime_factor_multiplicity(n):\n",
    "        res *= (p-1) * p ** (m-1)\n",
    "    return res\n",
    "totient_improved(10)"
   ]
  },
  {
   "cell_type": "code",
   "execution_count": 59,
   "metadata": {},
   "outputs": [
    {
     "data": {
      "text/plain": [
       "4"
      ]
     },
     "execution_count": 59,
     "metadata": {},
     "output_type": "execute_result"
    }
   ],
   "source": [
    "from functools import reduce\n",
    "def totient_improved2(n):\n",
    "    return reduce(\n",
    "        lambda x, y: x * y,\n",
    "        map(\n",
    "            lambda t: (t[0]-1) * t[0] ** (t[1]-1),\n",
    "            prime_factor_multiplicity(n)\n",
    "        )\n",
    "    )\n",
    "totient_improved2(10)"
   ]
  },
  {
   "cell_type": "markdown",
   "metadata": {},
   "source": [
    "### P38 (*) Compare the two methods of calculating Euler's totient function."
   ]
  },
  {
   "cell_type": "code",
   "execution_count": 60,
   "metadata": {},
   "outputs": [
    {
     "data": {
      "text/plain": [
       "True"
      ]
     },
     "execution_count": 60,
     "metadata": {},
     "output_type": "execute_result"
    }
   ],
   "source": [
    "totient_improved(10090) == totient(10090)"
   ]
  },
  {
   "cell_type": "markdown",
   "metadata": {},
   "source": [
    "### P39 (*) A list of prime numbers.\n",
    "\n",
    "Given a range of integers by its lower and upper limit, construct a list of all prime numbers in that range.\n",
    "```kotlin\n",
    "> listPrimesInRange(7..31)\n",
    "[7, 11, 13, 17, 19, 23, 29, 31]\n",
    "```"
   ]
  },
  {
   "cell_type": "code",
   "execution_count": 61,
   "metadata": {},
   "outputs": [
    {
     "data": {
      "text/plain": [
       "[7, 11, 13, 17, 19, 23, 29, 31]"
      ]
     },
     "execution_count": 61,
     "metadata": {},
     "output_type": "execute_result"
    }
   ],
   "source": [
    "def list_primes_in_range(l):\n",
    "    return [i for i in l if is_prime(i)]\n",
    "list_primes_in_range(list(range(7, 31+1)))"
   ]
  },
  {
   "cell_type": "markdown",
   "metadata": {},
   "source": [
    "### P40 (*) Goldbach's conjecture.\n",
    "\n",
    "Goldbach's conjecture says that every positive even number greater than 2 is the sum of two prime numbers. E.g. 28 = 5 + 23. It is one of the most famous facts in number theory that has not been proved to be correct in the general case. It has been numerically confirmed up to very large numbers (much larger than Kotlin's Int can represent). Write a function to find the two prime numbers that sum up to a given even integer.\n",
    "```kotlin\n",
    "> 28.goldbach()\n",
    "(5, 23)\n",
    "```"
   ]
  },
  {
   "cell_type": "code",
   "execution_count": 62,
   "metadata": {},
   "outputs": [
    {
     "data": {
      "text/plain": [
       "(5, 23)"
      ]
     },
     "execution_count": 62,
     "metadata": {},
     "output_type": "execute_result"
    }
   ],
   "source": [
    "def goldbach(n):\n",
    "    for i in range(2, n//2+1):\n",
    "        if is_prime(i) and is_prime(n-i):\n",
    "            return (i, n-i)\n",
    "goldbach(28)"
   ]
  },
  {
   "cell_type": "markdown",
   "metadata": {},
   "source": [
    "### P41 (*) A list of Goldbach compositions.\n",
    "\n",
    "Given a range of integers by its lower and upper limit, print a list of all even numbers and their Goldbach composition.\n",
    "```kotlin\n",
    "> printGoldbachList(9..20)\n",
    "10 = 3 + 7\n",
    "12 = 5 + 7\n",
    "14 = 3 + 11\n",
    "16 = 3 + 13\n",
    "18 = 5 + 13\n",
    "20 = 3 + 17\n",
    "```\n",
    "In most cases, if an even number is written as the sum of two prime numbers, one of them is very small. Very rarely, the primes are both bigger than, say, 50. Example (minimum value of 50 for the primes):\n",
    "```kotlin\n",
    "> printGoldbachListLimited(2..3000, 50)\n",
    "992 = 73 + 919\n",
    "1382 = 61 + 1321\n",
    "1856 = 67 + 1789\n",
    "...\n",
    "```\n"
   ]
  },
  {
   "cell_type": "code",
   "execution_count": 63,
   "metadata": {},
   "outputs": [
    {
     "name": "stdout",
     "output_type": "stream",
     "text": [
      "10 = 3 + 7\n",
      "12 = 5 + 7\n",
      "14 = 3 + 11\n",
      "16 = 3 + 13\n",
      "18 = 5 + 13\n",
      "20 = 3 + 17\n",
      "992 = 73 + 919\n",
      "1382 = 61 + 1321\n",
      "1856 = 67 + 1789\n"
     ]
    }
   ],
   "source": [
    "def print_goldbach_list(l, minvalue=2):\n",
    "    for n in l:\n",
    "        if n % 2 != 0:\n",
    "            continue\n",
    "        for i in range(minvalue, n//2+1):\n",
    "            if is_prime(i) and is_prime(n-i):\n",
    "                print(f\"{n} = {i} + {n-i}\")\n",
    "                break\n",
    "def print_goldbach_list_limited(l, minvalue):\n",
    "    print_goldbach_list(l, minvalue)\n",
    "print_goldbach_list(list(range(9, 20+1)))\n",
    "print_goldbach_list([992, 1382, 1856], 50)"
   ]
  },
  {
   "cell_type": "markdown",
   "metadata": {},
   "source": [
    "### P46 (*) Truth tables for logical expressions.\n",
    "\n",
    "Define functions and_, or_, nand_, nor_, xor_, impl_, and equ_ (for logical equivalence) which return true or false according to the result of their respective operations.\n",
    "```kotlin\n",
    "> true.and_(true)\n",
    "true\n",
    "> true.xor_(true)\n",
    "false\n",
    "```\n",
    "Write a function called printTruthTable which prints the truth table of a given logical expression.\n",
    "```kotlin\n",
    "> printTruthTable{ a, b -> a.and_(a.or_(b.not_())) }\n",
    "a\tb\tresult\n",
    "true\ttrue\ttrue\n",
    "true\tfalse\ttrue\n",
    "false\ttrue\tfalse\n",
    "false\tfalse\tfalse\n",
    "```"
   ]
  },
  {
   "cell_type": "code",
   "execution_count": 64,
   "metadata": {},
   "outputs": [
    {
     "name": "stdout",
     "output_type": "stream",
     "text": [
      "True\n"
     ]
    },
    {
     "data": {
      "text/plain": [
       "False"
      ]
     },
     "execution_count": 64,
     "metadata": {},
     "output_type": "execute_result"
    }
   ],
   "source": [
    "def not_(b):\n",
    "    return not b\n",
    "def and_(b1, b2):\n",
    "    return b1 and b2\n",
    "def or_(b1, b2):\n",
    "    return b1 or b2\n",
    "def nand_(b1, b2):\n",
    "    return not_(and_(b1, b2))\n",
    "def nor_(b1, b2):\n",
    "    return not_(or_(b1, b2))\n",
    "def xor_(b1, b2):\n",
    "    return b1 != b2\n",
    "def equ_(b1, b2):\n",
    "    return not_(xor_(b1, b2))\n",
    "def impl_(b1, b2):\n",
    "    return or_(not_(b1), b2)\n",
    "print(and_(True, True))\n",
    "xor_(True, True)"
   ]
  },
  {
   "cell_type": "code",
   "execution_count": 65,
   "metadata": {},
   "outputs": [
    {
     "name": "stdout",
     "output_type": "stream",
     "text": [
      "a\tb\tresult\n",
      "True\tTrue\tTrue\n",
      "True\tFalse\tTrue\n",
      "False\tTrue\tFalse\n",
      "False\tFalse\tFalse\n"
     ]
    }
   ],
   "source": [
    "from itertools import product\n",
    "def print_truth_table(f):\n",
    "    print(\"a\\tb\\tresult\")\n",
    "    for b1, b2 in product([True, False], repeat=2):\n",
    "        print(f\"{b1}\\t{b2}\\t{f(b1, b2)}\")\n",
    "print_truth_table(lambda a, b: and_(a, or_(a, not_(b))))"
   ]
  },
  {
   "cell_type": "markdown",
   "metadata": {},
   "source": [
    "### P47 (*) Truth tables for logical expressions (2).\n",
    "\n",
    "Continue P46 by defining and/2, or/2, etc as being operators. This allows to write the logical expression in the more natural way, as in the example: A and (A or not B). Define operator precedence as usual; i.e. as in Java."
   ]
  },
  {
   "cell_type": "code",
   "execution_count": 66,
   "metadata": {},
   "outputs": [],
   "source": [
    "class InfixOperator(object):\n",
    "    \"\"\"\n",
    "    value1 |infix_operator| value2\n",
    "    \"\"\"\n",
    "    def __init__(self, function):\n",
    "        self.function = function\n",
    "    def __or__(self, other):\n",
    "        \"\"\"this|other\"\"\"\n",
    "        return self.function(other)\n",
    "    def __ror__(self, other):\n",
    "        \"\"\"other|this\"\"\"\n",
    "        return InfixOperator(lambda x, self=self, other=other: self.function(other, x))\n",
    "    def __call__(self, value1, value2):\n",
    "        \"\"\"f(value1, value2)\"\"\"\n",
    "        return self.function(value1, value2)\n",
    "\n",
    "class RightOperator(InfixOperator):\n",
    "    \"\"\"\n",
    "    Right Associativity Operator\n",
    "    right_operator| value\n",
    "    \"\"\"\n",
    "    def __call__(self, value):\n",
    "        \"\"\"f(value)\"\"\"\n",
    "        return self.function(value)\n",
    "\n",
    "\n",
    "NOT = RightOperator(not_)\n",
    "AND = InfixOperator(and_)\n",
    "OR = InfixOperator(or_)\n",
    "NAND = InfixOperator(nand_)\n",
    "NOR = InfixOperator(nor_)\n",
    "XOR = InfixOperator(xor_)\n",
    "EQU = InfixOperator(equ_)\n",
    "IMPL = InfixOperator(impl_)"
   ]
  },
  {
   "cell_type": "code",
   "execution_count": 67,
   "metadata": {},
   "outputs": [
    {
     "name": "stdout",
     "output_type": "stream",
     "text": [
      "a\tb\tresult\n",
      "True\tTrue\tTrue\n",
      "True\tFalse\tTrue\n",
      "False\tTrue\tFalse\n",
      "False\tFalse\tFalse\n"
     ]
    }
   ],
   "source": [
    "print_truth_table(lambda a, b: a |AND| (a |OR| NOT| b))"
   ]
  },
  {
   "cell_type": "markdown",
   "metadata": {},
   "source": [
    "### P48 (**) Truth tables for logical expressions (3).\n",
    "Generalize P47 in such a way that the logical expression may contain any number of logical variables. Define table/2 in a way that table(List,Expr) prints the truth table for the expression Expr, which contains the logical variables enumerated in List."
   ]
  },
  {
   "cell_type": "code",
   "execution_count": 68,
   "metadata": {},
   "outputs": [
    {
     "name": "stdout",
     "output_type": "stream",
     "text": [
      "a\tb\tc\tresult\n",
      "True\tTrue\tTrue\tTrue\n",
      "True\tTrue\tFalse\tTrue\n",
      "True\tFalse\tTrue\tTrue\n",
      "True\tFalse\tFalse\tTrue\n",
      "False\tTrue\tTrue\tTrue\n",
      "False\tTrue\tFalse\tTrue\n",
      "False\tFalse\tTrue\tTrue\n",
      "False\tFalse\tFalse\tTrue\n"
     ]
    }
   ],
   "source": [
    "from itertools import product\n",
    "def print_truth_table3(l, f):\n",
    "    print(\"\\t\".join(l) + \"\\tresult\")\n",
    "    for b in product([True, False], repeat=len(l)):\n",
    "        print((\n",
    "            \"\\t\".join((\"{b[%d]}\" % i for i in range(len(l)))) +\n",
    "            \"\\t{result}\"\n",
    "        ).format(b=b, result=f(*b)))\n",
    "print_truth_table3([\"a\", \"b\", \"c\"], lambda A, B, C: A |AND| (B |OR| C) |EQU| (A |AND| B) |OR| (A |AND| C))"
   ]
  },
  {
   "cell_type": "markdown",
   "metadata": {},
   "source": [
    "### P49 (*) Gray code.\n",
    "\n",
    "An n-bit Gray code is a sequence of n-bit strings constructed according to certain rules. Find out the construction rules and write a function to generate Gray codes. For example:\n",
    "```kotlin\n",
    "> grayCodes(bits = 1)\n",
    "[0, 1]\n",
    "> grayCodes(bits = 2)\n",
    "[00, 01, 11, 10]\n",
    "> grayCodes(bits = 3)\n",
    "[000, 001, 011, 010, 110, 111, 101, 100]\n",
    "```"
   ]
  },
  {
   "cell_type": "code",
   "execution_count": 69,
   "metadata": {},
   "outputs": [
    {
     "data": {
      "text/plain": [
       "['000', '001', '011', '010', '110', '111', '101', '100']"
      ]
     },
     "execution_count": 69,
     "metadata": {},
     "output_type": "execute_result"
    }
   ],
   "source": [
    "def gray_code(bits):\n",
    "    return (\n",
    "        list(map(lambda s: \"0\" + s, gray_code(bits-1))) + \n",
    "        list(map(lambda s: \"1\" + s, reversed(gray_code(bits-1))))\n",
    "    ) if bits else [\"\"]\n",
    "gray_code(3)"
   ]
  },
  {
   "cell_type": "code",
   "execution_count": 70,
   "metadata": {},
   "outputs": [
    {
     "data": {
      "text/plain": [
       "['000', '001', '011', '010', '110', '111', '101', '100']"
      ]
     },
     "execution_count": 70,
     "metadata": {},
     "output_type": "execute_result"
    }
   ],
   "source": [
    "from itertools import cycle, islice\n",
    "def gray_code2(bits):\n",
    "    return list(map(\n",
    "        lambda l: reduce(lambda x, y: y + x, l),\n",
    "        zip(*map(\n",
    "            lambda x: islice(x, 2 ** bits), \n",
    "            map(\n",
    "                lambda l: cycle(l+list(reversed(l))),\n",
    "                ([\"0\"] * 2 ** b + [\"1\"] * 2 ** b for b in range(bits))\n",
    "            )\n",
    "        ))\n",
    "    ))\n",
    "gray_code2(3)"
   ]
  },
  {
   "cell_type": "code",
   "execution_count": 71,
   "metadata": {},
   "outputs": [
    {
     "data": {
      "text/plain": [
       "['000', '001', '011', '010', '110', '111', '101', '100']"
      ]
     },
     "execution_count": 71,
     "metadata": {},
     "output_type": "execute_result"
    }
   ],
   "source": [
    "from functools import reduce\n",
    "def gray_code3(bits):\n",
    "    def palindrome(l):\n",
    "        \"\"\"\n",
    "        >>> palindrome([\"1\", \"2\"])\n",
    "        ['1', '2', '2', '1']\n",
    "        \"\"\"\n",
    "        return l + list(reversed(l))\n",
    "    def reverse_join(l):\n",
    "        \"\"\"\n",
    "        >>> reverse_join([\"1\", \"2\", \"3\"])\n",
    "        '321'\n",
    "        \"\"\"\n",
    "        return reduce(lambda x, y: y + x, l)\n",
    "    i = 0\n",
    "    res = []\n",
    "    while(i < bits):\n",
    "        res = list(map(palindrome, res))\n",
    "        res.append([\"0\"] * 2 ** i + [\"1\"] * 2 ** i)\n",
    "        i += 1\n",
    "    return list(map(reverse_join, zip(*res)))\n",
    "gray_code3(3)"
   ]
  },
  {
   "cell_type": "markdown",
   "metadata": {},
   "source": [
    "### P50 (**) Huffman code.\n",
    "\n",
    "If you are not familiar with Huffman coding, consult internet (or a good book).\n",
    "\n",
    "* a) Given characters with their frequencies, e.g. {a=25, b=21, c=18, d=14, e=9, f=7, g=6}. Our objective is to construct a Map, where key is character and value is the Huffman code for it.\n",
    "\n",
    "```kotlin\n",
    "> createEncoding(linkedMapOf(Pair('a', 25), Pair('b', 21), Pair('c', 18), Pair('d', 14), Pair('e', 9), Pair('f', 7), Pair('g', 6)))\n",
    "{a=10, b=00, c=111, d=110, e=010, f=0111, g=0110}\n",
    "```\n",
    "\n",
    "* b) Write encode and decode functions for conversion between String and encoded String with zeroes and ones. For example:\n",
    "\n",
    "```kotlin\n",
    "\"this is a sentence\".encode(encoding)\n",
    "\"00110000101011100101011101001110101111011001111011000111\"\n",
    "\n",
    "\"00110000101011100101011101001110101111011001111011000111\".decode(encoding)\n",
    "\"this is a sentence\"\n",
    "```"
   ]
  },
  {
   "cell_type": "code",
   "execution_count": 72,
   "metadata": {},
   "outputs": [
    {
     "data": {
      "text/plain": [
       "{'a': '10',\n",
       " 'b': '00',\n",
       " 'c': '111',\n",
       " 'd': '110',\n",
       " 'e': '010',\n",
       " 'f': '0111',\n",
       " 'g': '0110'}"
      ]
     },
     "execution_count": 72,
     "metadata": {},
     "output_type": "execute_result"
    }
   ],
   "source": [
    "def create_encoding(d):\n",
    "    res = {k: \"\" for k in d}\n",
    "    l = [([k], v) for k, v in sorted(d.items(), key=lambda x: -x[1])]\n",
    "    while(len(l)>1):\n",
    "        now, nxt = l.pop(), l.pop()\n",
    "        for k in now[0]:\n",
    "            res[k] = \"0\" + res[k]\n",
    "        for k in nxt[0]:\n",
    "            res[k] = \"1\" + res[k]\n",
    "        l.append((now[0] + nxt[0], now[1] + nxt[1]))\n",
    "        l = sorted(l, key=lambda x: -x[1])\n",
    "    return res\n",
    "create_encoding({\"a\": 25, \"b\": 21, \"c\": 18, \"d\":14, \"e\": 9, \"f\": 7, \"g\": 6})"
   ]
  },
  {
   "cell_type": "code",
   "execution_count": 73,
   "metadata": {},
   "outputs": [],
   "source": [
    "from itertools import groupby\n",
    "def huffman_encode(string, encoding):\n",
    "    return \"\".join(encoding.get(c, \"\") for c in string)\n",
    "def huffman_decode(string, encoding):\n",
    "    encoding_inv = {v: k for k, v in encoding.items()}\n",
    "    buf = \"\"\n",
    "    res = \"\"\n",
    "    for c in string:\n",
    "        buf += c\n",
    "        if encoding_inv.get(buf):\n",
    "            res += encoding_inv[buf]\n",
    "            buf = \"\"\n",
    "    return res\n",
    "def string_to_encoding(string):\n",
    "    return create_encoding({c: string.count(c) for c in sorted(list(set(string)))})"
   ]
  },
  {
   "cell_type": "code",
   "execution_count": 74,
   "metadata": {},
   "outputs": [
    {
     "name": "stdout",
     "output_type": "stream",
     "text": [
      "{' ': '00', 'a': '1010', 'c': '10111', 'e': '111', 'h': '10110', 'i': '100', 'n': '011', 's': '110', 't': '010'}\n",
      "01010110100110001001100010100011011101101011101110111111\n"
     ]
    },
    {
     "data": {
      "text/plain": [
       "'this is a sentence'"
      ]
     },
     "execution_count": 74,
     "metadata": {},
     "output_type": "execute_result"
    }
   ],
   "source": [
    "encoding = string_to_encoding(\"this is a sentence\")\n",
    "print(encoding)\n",
    "encoded_string = huffman_encode(\"this is a sentence\", encoding)\n",
    "print(encoded_string)\n",
    "huffman_decode(encoded_string, encoding)"
   ]
  },
  {
   "cell_type": "code",
   "execution_count": null,
   "metadata": {
    "collapsed": true
   },
   "outputs": [],
   "source": []
  }
 ],
 "metadata": {
  "kernelspec": {
   "display_name": "Python 3",
   "language": "python",
   "name": "python3"
  },
  "language_info": {
   "codemirror_mode": {
    "name": "ipython",
    "version": 3
   },
   "file_extension": ".py",
   "mimetype": "text/x-python",
   "name": "python",
   "nbconvert_exporter": "python",
   "pygments_lexer": "ipython3",
   "version": "3.6.3"
  }
 },
 "nbformat": 4,
 "nbformat_minor": 2
}
